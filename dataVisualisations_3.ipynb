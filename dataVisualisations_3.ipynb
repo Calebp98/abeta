{
 "cells": [
  {
   "cell_type": "raw",
   "metadata": {},
   "source": [
    "<script>\n",
    "  function code_toggle() {\n",
    "    if (code_shown){\n",
    "      $('div.input').hide('500');\n",
    "      $('#toggleButton').val('Show Code')\n",
    "    } else {\n",
    "      $('div.input').show('500');\n",
    "      $('#toggleButton').val('Hide Code')\n",
    "    }\n",
    "    code_shown = !code_shown\n",
    "  }\n",
    "\n",
    "  $( document ).ready(function(){\n",
    "    code_shown=false;\n",
    "    $('div.input').hide()\n",
    "  });\n",
    "</script>\n",
    "<form action=\"javascript:code_toggle()\"><input type=\"submit\" id=\"toggleButton\" value=\"Show Code\"></form>\n"
   ]
  },
  {
   "cell_type": "code",
   "execution_count": null,
   "metadata": {},
   "outputs": [],
   "source": []
  },
  {
   "cell_type": "code",
   "execution_count": 2,
   "metadata": {},
   "outputs": [],
   "source": [
    "# import required dependencies\n",
    "import pandas as pd\n",
    "import numpy as np\n",
    "import matplotlib.pyplot as plt\n",
    "import xlrd\n",
    "import csv\n",
    "import seaborn as sns\n",
    "from IPython.display import set_matplotlib_formats\n",
    "\n",
    "np.random.seed(0)\n",
    "\n",
    "set_matplotlib_formats('png', 'pdf') # uses vector figures in pdf exports\n",
    "\n",
    "plt.style.use('seaborn-pastel')\n",
    "\n",
    "# load clinical and pathological dataframes with datasets\n",
    "clin = pd.read_csv('aBeta paper/data/CFAS_ClinicalData.csv',header = 0)\n",
    "\n",
    "patho = pd.read_excel('aBeta paper/data/CFAS_NeuropathologyData May 2018.xlsx', header = 21)\n",
    "patho.dropna(subset=['Case'], inplace=True)\n",
    "\n",
    "clin.rename(columns={'labno':'Case'}, inplace=True)"
   ]
  },
  {
   "cell_type": "code",
   "execution_count": 3,
   "metadata": {},
   "outputs": [],
   "source": [
    "# declaring functions\n",
    "\n",
    "def frequencyChart(df,cat1,cat2):\n",
    "    bar = df[[cat1,cat2]]\n",
    "    bar = bar.groupby([cat1,cat2]).size().reset_index(name='Size')\n",
    "    \n",
    "    dement = bar.loc[bar[cat2] == 'Dementia']\n",
    "    notDement = bar.loc[bar[cat2] == 'No dementia']\n",
    "    dement  = dement.drop([cat2],axis=1)\n",
    "    notDement  = notDement.drop([cat2],axis=1)\n",
    "    dement.columns = [cat1 , 'Dementia']\n",
    "    notDement.columns = [cat1 , 'noDementia']\n",
    "    dement.reset_index(inplace = True)\n",
    "    notDement.reset_index(inplace = True)\n",
    "    \n",
    "    \n",
    "    # set up frequency chart for dementia cases with thal stage\n",
    "    bar = pd.merge(dement, notDement, on=cat1, how='outer')\n",
    "    bar = bar.sort_values(cat1)\n",
    "    #bar = bar.fillna(0)\n",
    "    bar = bar.dropna() #previously (0) but I think this was a bug\n",
    "\n",
    "    bar.drop(labels = [\"index_x\",\"index_y\"],axis = 1,inplace = True)\n",
    "    bar.reset_index(inplace = True)\n",
    "    bar.drop(labels = [\"index\"],axis = 1,inplace = True)\n",
    "\n",
    "    #print(bar)\n",
    "\n",
    "    return bar"
   ]
  },
  {
   "cell_type": "code",
   "execution_count": 4,
   "metadata": {},
   "outputs": [],
   "source": [
    "def ageFreqChart(df,cat1,cat2):\n",
    "    bar = df[[cat1,cat2]]\n",
    "    bar = bar.groupby([cat1,cat2]).size().reset_index(name='Size')\n",
    "    \n",
    "    young = bar.loc[bar[cat2] == 'young']\n",
    "    mid = bar.loc[bar[cat2] == 'mid']\n",
    "    old = bar.loc[bar[cat2] == 'old']\n",
    "\n",
    "    young  = young.drop([cat2],axis=1)\n",
    "    mid  = mid.drop([cat2],axis=1)\n",
    "    old = old.drop([cat2],axis=1)\n",
    "    \n",
    "    young.columns = [cat1,'young']\n",
    "    mid.columns = [cat1,'mid']\n",
    "    old.columns = [cat1, 'old']\n",
    "    young.reset_index(inplace = True)\n",
    "    mid.reset_index(inplace = True)\n",
    "    young.reset_index(inplace = True)\n",
    "    \n",
    "    \n",
    "    # set up frequency chart for dementia cases with thal stage\n",
    "    bar = pd.merge(young, mid,on=cat1, how='outer')\n",
    "    bar = pd.merge(bar, old,on=cat1, how='outer')\n",
    "    bar = bar.sort_values(cat1)\n",
    "    bar = bar.dropna()\n",
    "\n",
    "    bar.drop(labels = [\"index_x\",\"index_y\"],axis = 1,inplace = True)\n",
    "    bar.reset_index(inplace = True)\n",
    "    bar.drop(labels = [\"index\"],axis = 1,inplace = True)\n",
    "    bar.drop(labels = [\"level_0\"],axis = 1,inplace = True)\n",
    "#     print(bar)\n",
    "\n",
    "    return bar"
   ]
  },
  {
   "cell_type": "code",
   "execution_count": 5,
   "metadata": {},
   "outputs": [
    {
     "data": {
      "text/plain": [
       "<matplotlib.axes._subplots.AxesSubplot at 0x1a23474b00>"
      ]
     },
     "execution_count": 5,
     "metadata": {},
     "output_type": "execute_result"
    },
    {
     "data": {
      "image/png": "[encoded data removed]",
      "text/plain": [
       "<Figure size 432x288 with 1 Axes>"
      ]
     },
     "metadata": {
      "needs_background": "light"
     },
     "output_type": "display_data"
    },
    {
     "data": {
      "image/png": "[encoded data removed]",
      "text/plain": [
       "<Figure size 432x288 with 1 Axes>"
      ]
     },
     "metadata": {
      "needs_background": "light"
     },
     "output_type": "display_data"
    }
   ],
   "source": [
    "# Create Seperate dataframes by centre\n",
    "\n",
    "# Cambridge\n",
    "# Clinical dataset\n",
    "clinCambridge = clin['Case'].str.startswith('RH')\n",
    "clinCambridge = clin[clinCambridge].copy()\n",
    "\n",
    "# Pathological dataset\n",
    "pathoCambridge = patho['Case'].str.startswith('RH')\n",
    "pathoCambridge = patho[pathoCambridge].copy()\n",
    "\n",
    "short = pd.to_numeric(clinCambridge.loc[:,'Case'].str[2:])\n",
    "clinCambridge.loc[:,'Case'] = short\n",
    "clinCambridge.sort_values(by=['Case'], inplace = True)\n",
    "clinCambridge.head()\n",
    "\n",
    "short = pathoCambridge.loc[:,'Case'].str[2:]\n",
    "pathoCambridge.loc[:,'Case'] = pd.to_numeric(short)\n",
    "pathoCambridge.sort_values(by=['Case'],inplace =True)\n",
    "\n",
    "cambridge = pathoCambridge.merge(clinCambridge, how = 'left', on = ['Case'])\n",
    "cambridge.head()\n",
    "\n",
    "cambridge.plot(x = \"aged\", y = \"BraakStage\",kind = \"scatter\")\n",
    "cambridge.plot(x = \"aged\", y = \"ThalStage\",kind = \"scatter\")\n",
    "# cambridge.head()"
   ]
  },
  {
   "cell_type": "code",
   "execution_count": 6,
   "metadata": {},
   "outputs": [],
   "source": [
    "# Newcastle\n",
    "clinNewcastle = clin['Case'].str.startswith('NA')\n",
    "clinNewcastle = clin[clinNewcastle].copy()\n",
    "\n",
    "pathoNewcastle = patho['Case'].str.startswith('NA')\n",
    "pathoNewcastle = patho[pathoNewcastle].copy()\n",
    "\n",
    "short = pd.to_numeric(clinNewcastle.loc[:,'Case'].str[2:].str.replace(\"/\",\"\"))\n",
    "clinNewcastle.loc[:,'Case'] = short\n",
    "clinNewcastle.sort_values(by=['Case'], inplace = True)\n",
    "\n",
    "short = pathoNewcastle.loc[:,'Case'].str[2:].str.replace(\"/\",\"\")\n",
    "pathoNewcastle.loc[:,'Case'] = pd.to_numeric(short)\n",
    "pathoNewcastle.sort_values(by=['Case'],inplace =True)\n",
    "\n",
    "newcastle = pathoNewcastle.merge(clinNewcastle, how = 'left', on = ['Case'])\n",
    "# newcastle.head()"
   ]
  },
  {
   "cell_type": "code",
   "execution_count": 7,
   "metadata": {},
   "outputs": [],
   "source": [
    "# Creates master data set containing both cambridge and newcastle data sets\n",
    "master = cambridge.append(newcastle).copy()\n",
    "master = master[(master[['dem_nver4']] != 0).all(axis=1)]\n",
    "\n",
    "# add age category\n",
    "\n",
    "def ageCat(row):\n",
    "    if row[\"aged\"] != row[\"aged\"]:\n",
    "        return row[\"aged\"]\n",
    "    if row[\"aged\"] < 80:\n",
    "        return \"young\"\n",
    "    elif row[\"aged\"] >= 80 and row[\"aged\"] <= 89:\n",
    "        return \"mid\"\n",
    "    else:\n",
    "        return \"old\"\n",
    "\n",
    "def ageCatNum(row):\n",
    "    if row[\"aged\"] != row[\"aged\"]:\n",
    "        return row[\"aged\"]\n",
    "    if row[\"aged\"] < 80:\n",
    "        return 0\n",
    "    elif row[\"aged\"] >= 80 and row[\"aged\"] <= 89:\n",
    "        return 1\n",
    "    else:\n",
    "        return 2\n",
    "\n",
    "master[\"ageCat\"] = master.apply(ageCat,axis=1)\n",
    "master[\"ageCatNum\"] = master.apply(ageCatNum,axis=1)\n",
    "\n",
    "# master[[\"aged\",\"ageCat\"]].head()\n",
    "\n",
    "\n",
    "\n"
   ]
  },
  {
   "cell_type": "markdown",
   "metadata": {},
   "source": [
    "The first step is the establish realtionships between two variables in order to buld a univariate model. The following figures show the relationship between Braak or Thal Stages with age.\n",
    "\n",
    "Hypothesis – \n",
    "1. Thal Abeta stage relates to dementia. \n",
    "\n",
    "2. Thal is more finely graded than the CERAD plaque scores, so \n",
    "Thal stage is better predictor of dementia than CERAD plaque density.\n",
    "\n",
    "a. Univariate – how does Thal stage relate to dementia. Nos of demented vs non-demented for each stage, odds ratio.\n",
    "\n",
    "b. Multi- how does it behave in a log regression model of dementia with BNE neuropil thread stage, and CERAD plaque score – is Thal better than CERAD? Also include CAA. Is it better than neuropil thread score."
   ]
  },
  {
   "cell_type": "code",
   "execution_count": 8,
   "metadata": {},
   "outputs": [
    {
     "data": {
      "text/plain": [
       "<Figure size 432x288 with 0 Axes>"
      ]
     },
     "metadata": {},
     "output_type": "display_data"
    },
    {
     "data": {
      "image/png": "[encoded data removed]",
      "text/plain": [
       "<Figure size 432x288 with 1 Axes>"
      ]
     },
     "metadata": {
      "needs_background": "light"
     },
     "output_type": "display_data"
    },
    {
     "data": {
      "image/png": "[encoded data removed]",
      "text/plain": [
       "<Figure size 432x288 with 1 Axes>"
      ]
     },
     "metadata": {
      "needs_background": "light"
     },
     "output_type": "display_data"
    },
    {
     "data": {
      "text/html": [
       "<div>\n",
       "<style scoped>\n",
       "    .dataframe tbody tr th:only-of-type {\n",
       "        vertical-align: middle;\n",
       "    }\n",
       "\n",
       "    .dataframe tbody tr th {\n",
       "        vertical-align: top;\n",
       "    }\n",
       "\n",
       "    .dataframe thead th {\n",
       "        text-align: right;\n",
       "    }\n",
       "</style>\n",
       "<table border=\"1\" class=\"dataframe\">\n",
       "  <thead>\n",
       "    <tr style=\"text-align: right;\">\n",
       "      <th></th>\n",
       "      <th>ThalStage</th>\n",
       "      <th>Dementia</th>\n",
       "      <th>noDementia</th>\n",
       "    </tr>\n",
       "  </thead>\n",
       "  <tbody>\n",
       "    <tr>\n",
       "      <th>0</th>\n",
       "      <td>0.0</td>\n",
       "      <td>7</td>\n",
       "      <td>10</td>\n",
       "    </tr>\n",
       "    <tr>\n",
       "      <th>1</th>\n",
       "      <td>1.0</td>\n",
       "      <td>8</td>\n",
       "      <td>9</td>\n",
       "    </tr>\n",
       "    <tr>\n",
       "      <th>2</th>\n",
       "      <td>2.0</td>\n",
       "      <td>14</td>\n",
       "      <td>9</td>\n",
       "    </tr>\n",
       "    <tr>\n",
       "      <th>3</th>\n",
       "      <td>3.0</td>\n",
       "      <td>19</td>\n",
       "      <td>21</td>\n",
       "    </tr>\n",
       "    <tr>\n",
       "      <th>4</th>\n",
       "      <td>4.0</td>\n",
       "      <td>26</td>\n",
       "      <td>15</td>\n",
       "    </tr>\n",
       "  </tbody>\n",
       "</table>\n",
       "</div>"
      ],
      "text/plain": [
       "   ThalStage  Dementia  noDementia\n",
       "0        0.0         7          10\n",
       "1        1.0         8           9\n",
       "2        2.0        14           9\n",
       "3        3.0        19          21\n",
       "4        4.0        26          15"
      ]
     },
     "execution_count": 8,
     "metadata": {},
     "output_type": "execute_result"
    }
   ],
   "source": [
    "# Does Thal Abets stage relate to dementia?\n",
    "\n",
    "# Visualisation for univariate question\n",
    "\n",
    "thalBar = frequencyChart(master,'ThalStage','dem_nver4')\n",
    "thalBar.head()\n",
    "\n",
    "ratios = []\n",
    "ratios = ((thalBar['Dementia']/(thalBar['noDementia'] + thalBar['Dementia'])*100))\n",
    "\n",
    "plt.figure()\n",
    "\n",
    "thalBar.head()\n",
    "thalBar.plot.bar(x = \"ThalStage\",rot = 0)\n",
    "plt.suptitle(\"Number of Subjects for Various Thal Stages\" )\n",
    "plt.ylabel('Number of Patients')\n",
    "\n",
    "plt.figure()\n",
    "ratios.plot()\n",
    "plt.suptitle(\"Percentage of Patients having Dementia for Each Thal Stage\" )\n",
    "plt.xlabel('ThalStage')\n",
    "plt.ylabel('Percentage of Patients with Dementia')\n",
    "\n",
    "plt.show()\n",
    "thalBar.head()"
   ]
  },
  {
   "cell_type": "markdown",
   "metadata": {},
   "source": [
    "I thought this was as intersting relationship so investigated similar relationships as shown below for BrainNet, Braak and CERAD staging. "
   ]
  },
  {
   "cell_type": "code",
   "execution_count": 9,
   "metadata": {},
   "outputs": [
    {
     "data": {
      "text/plain": [
       "<Figure size 432x288 with 0 Axes>"
      ]
     },
     "metadata": {},
     "output_type": "display_data"
    },
    {
     "data": {
      "image/png": "[encoded data removed]",
      "text/plain": [
       "<Figure size 432x288 with 1 Axes>"
      ]
     },
     "metadata": {
      "needs_background": "light"
     },
     "output_type": "display_data"
    },
    {
     "data": {
      "image/png": "[encoded data removed]",
      "text/plain": [
       "<Figure size 432x288 with 1 Axes>"
      ]
     },
     "metadata": {
      "needs_background": "light"
     },
     "output_type": "display_data"
    }
   ],
   "source": [
    "# set up dataframe for BNE stage and dementia diagnosis\n",
    "\n",
    "BNEBar = frequencyChart(master,'BrainNetStage','dem_nver4')\n",
    "\n",
    "# visualisation for brain net\n",
    "\n",
    "ratios = []\n",
    "ratios = ((BNEBar['Dementia']/(BNEBar['noDementia'] + BNEBar['Dementia']))*100)\n",
    "\n",
    "# plotting\n",
    "plt.figure()\n",
    "BNEBar.head()\n",
    "BNEBar.plot.bar(x = \"BrainNetStage\",rot = 0)\n",
    "\n",
    "plt.suptitle(\"Number of Subjects for Various BrainNetStage\" )\n",
    "plt.ylabel('Number of Patients')\n",
    "\n",
    "plt.figure()\n",
    "ratios.plot()\n",
    "plt.suptitle(\"Percentage of Patients having Dementia for Each Thal Stage\" )\n",
    "plt.xlabel('BrainNetStage')\n",
    "plt.ylabel('Percentage of Patients with Dementia')\n",
    "\n",
    "plt.show()"
   ]
  },
  {
   "cell_type": "code",
   "execution_count": 10,
   "metadata": {},
   "outputs": [
    {
     "data": {
      "text/plain": [
       "<Figure size 432x288 with 0 Axes>"
      ]
     },
     "metadata": {},
     "output_type": "display_data"
    },
    {
     "data": {
      "image/png": "[encoded data removed]",
      "text/plain": [
       "<Figure size 432x288 with 1 Axes>"
      ]
     },
     "metadata": {
      "needs_background": "light"
     },
     "output_type": "display_data"
    },
    {
     "data": {
      "image/png": "[encoded data removed]",
      "text/plain": [
       "<Figure size 432x288 with 1 Axes>"
      ]
     },
     "metadata": {
      "needs_background": "light"
     },
     "output_type": "display_data"
    }
   ],
   "source": [
    "# set up dataframe for Braak stage and dementia diagnosis\n",
    "\n",
    "braakBar = frequencyChart(master,'BraakStage','dem_nver4')\n",
    "\n",
    "# visualisation for brain net\n",
    "\n",
    "ratios = []\n",
    "ratios = (braakBar['Dementia']/(braakBar['noDementia'] + braakBar['Dementia'])*100)\n",
    "\n",
    "# plotting\n",
    "plt.figure()\n",
    "braakBar.plot.bar(x = \"BraakStage\",rot = 0)\n",
    "plt.suptitle(\"Number of Subjects for Various BraakStage\" )\n",
    "plt.ylabel('Number of Patients')\n",
    "\n",
    "plt.figure()\n",
    "ratios.plot()\n",
    "plt.suptitle(\"Percentage of Subjects Presenting With Dementia for Each BraakStage\" )\n",
    "plt.xlabel('BraakStage')\n",
    "plt.ylabel('Percentage of Patients with Dementia')\n",
    "\n",
    "plt.show()"
   ]
  },
  {
   "cell_type": "code",
   "execution_count": 11,
   "metadata": {
    "scrolled": false
   },
   "outputs": [
    {
     "name": "stdout",
     "output_type": "stream",
     "text": [
      "0    46.551724\n",
      "1    54.838710\n",
      "2    74.193548\n",
      "3    91.304348\n",
      "dtype: float64\n"
     ]
    },
    {
     "data": {
      "text/plain": [
       "<Figure size 432x288 with 0 Axes>"
      ]
     },
     "metadata": {},
     "output_type": "display_data"
    },
    {
     "data": {
      "image/png": "[encoded data removed]",
      "text/plain": [
       "<Figure size 432x288 with 1 Axes>"
      ]
     },
     "metadata": {
      "needs_background": "light"
     },
     "output_type": "display_data"
    },
    {
     "data": {
      "image/png": "[encoded data removed]",
      "text/plain": [
       "<Figure size 432x288 with 1 Axes>"
      ]
     },
     "metadata": {
      "needs_background": "light"
     },
     "output_type": "display_data"
    }
   ],
   "source": [
    "# plaqsc = cerad scores\n",
    "\n",
    "# set up dataframe for Braak stage and dementia diagnosis\n",
    "\n",
    "ceradBar = frequencyChart(master,'plaqsc','dem_nver4')\n",
    "\n",
    "# visualisation for brain net\n",
    "\n",
    "ratios = []\n",
    "ratios = ((ceradBar['Dementia']/(ceradBar['noDementia'] + ceradBar['Dementia']))*100)\n",
    "\n",
    "# plotting\n",
    "plt.figure()\n",
    "ceradBar.plot.bar(x = \"plaqsc\", rot = 0)\n",
    "plt.suptitle(\"Number of Subjects for Various BraakStage\" )\n",
    "plt.ylabel('Number of Patients')\n",
    "\n",
    "plt.figure()\n",
    "print(ratios)\n",
    "plt.plot(ratios)\n",
    "plt.suptitle(\"Percentage of Patients having Dementia for Each CERAD Stage\" )\n",
    "plt.xlabel('CERAD Stage')\n",
    "plt.ylabel('Percentage of Patients with Dementia')\n",
    "\n",
    "plt.show()\n",
    "# print(ratios)\n",
    "# print(ceradBar)"
   ]
  },
  {
   "cell_type": "code",
   "execution_count": 12,
   "metadata": {},
   "outputs": [
    {
     "name": "stdout",
     "output_type": "stream",
     "text": [
      "0    38.095238\n",
      "1    78.787879\n",
      "2    57.352941\n",
      "dtype: float64\n"
     ]
    },
    {
     "data": {
      "text/plain": [
       "<Figure size 432x288 with 0 Axes>"
      ]
     },
     "metadata": {},
     "output_type": "display_data"
    },
    {
     "data": {
      "image/png": "[encoded data removed]",
      "text/plain": [
       "<Figure size 432x288 with 1 Axes>"
      ]
     },
     "metadata": {
      "needs_background": "light"
     },
     "output_type": "display_data"
    },
    {
     "data": {
      "image/png": "[encoded data removed]",
      "text/plain": [
       "<Figure size 432x288 with 1 Axes>"
      ]
     },
     "metadata": {
      "needs_background": "light"
     },
     "output_type": "display_data"
    }
   ],
   "source": [
    "# caa type\n",
    "\n",
    "# set up dataframe for caa stage and dementia diagnosis\n",
    "master.head()\n",
    "caaBar = frequencyChart(master,'CAAType','dem_nver4')\n",
    "\n",
    "# visualisation for brain net\n",
    "\n",
    "ratios = []\n",
    "ratios = ((caaBar['Dementia']/(caaBar['noDementia'] + caaBar['Dementia']))*100)\n",
    "\n",
    "# plotting\n",
    "plt.figure()\n",
    "caaBar.plot.bar(x = \"CAAType\", rot = 0)\n",
    "plt.suptitle(\"Number of Subjects for Various CAAType stages\" )\n",
    "plt.ylabel('Number of Patients')\n",
    "\n",
    "plt.figure()\n",
    "print(ratios)\n",
    "plt.plot(ratios)\n",
    "plt.suptitle(\"Percentage of Patients having Dementia for Each CERAD Stage\" )\n",
    "plt.xlabel('CAAType')\n",
    "plt.ylabel('Percentage of Patients with Dementia')\n",
    "\n",
    "plt.show()\n",
    "# print(ratios)\n",
    "# print(ceradBar)\n"
   ]
  },
  {
   "cell_type": "code",
   "execution_count": 13,
   "metadata": {},
   "outputs": [
    {
     "name": "stderr",
     "output_type": "stream",
     "text": [
      "/anaconda3/lib/python3.7/site-packages/scipy/stats/stats.py:1713: FutureWarning: Using a non-tuple sequence for multidimensional indexing is deprecated; use `arr[tuple(seq)]` instead of `arr[seq]`. In the future this will be interpreted as an array index, `arr[np.array(seq)]`, which will result either in an error or a different result.\n",
      "  return np.add.reduce(sorted[indexer] * weights, axis=axis) / sumval\n"
     ]
    },
    {
     "data": {
      "text/plain": [
       "Text(0.5,1,'Relationship between brain weight and age')"
      ]
     },
     "execution_count": 13,
     "metadata": {},
     "output_type": "execute_result"
    },
    {
     "data": {
      "image/png": "[encoded data removed]",
      "text/plain": [
       "<Figure size 460.125x360 with 1 Axes>"
      ]
     },
     "metadata": {
      "needs_background": "light"
     },
     "output_type": "display_data"
    }
   ],
   "source": [
    "#relationship between brain weight and age\n",
    "ageComparisons = master[['aged','brainwgt','ThalStage','dem_nver4']]\n",
    "ageComparisons = ageComparisons.drop(ageComparisons[ageComparisons.brainwgt<10].index)\n",
    "ageComparisons = ageComparisons.dropna()\n",
    "ageComparisons.head()\n",
    "\n",
    "# plt.figure()\n",
    "# ageComparisons.plot.scatter(x = 'aged', y  = 'brainwgt')\n",
    "# plt.show()\n",
    "\n",
    "#should probably add regression and examine anamlous results at bottom of graph\n",
    "\n",
    "ax = sns.lmplot(x=\"aged\", y=\"brainwgt\", data=ageComparisons, hue = \"dem_nver4\")\n",
    "plt.xlabel(\"Age\")\n",
    "plt.ylabel(\"Brain Weight\")\n",
    "plt.title(\"Relationship between brain weight and age\") # You can comment this line out if you don't need title\n"
   ]
  },
  {
   "cell_type": "code",
   "execution_count": 14,
   "metadata": {},
   "outputs": [
    {
     "data": {
      "text/html": [
       "<div>\n",
       "<style scoped>\n",
       "    .dataframe tbody tr th:only-of-type {\n",
       "        vertical-align: middle;\n",
       "    }\n",
       "\n",
       "    .dataframe tbody tr th {\n",
       "        vertical-align: top;\n",
       "    }\n",
       "\n",
       "    .dataframe thead th {\n",
       "        text-align: right;\n",
       "    }\n",
       "</style>\n",
       "<table border=\"1\" class=\"dataframe\">\n",
       "  <thead>\n",
       "    <tr style=\"text-align: right;\">\n",
       "      <th></th>\n",
       "      <th>partClassification</th>\n",
       "      <th>dem_nver4</th>\n",
       "    </tr>\n",
       "  </thead>\n",
       "  <tbody>\n",
       "    <tr>\n",
       "      <th>0</th>\n",
       "      <td>PART-Probable</td>\n",
       "      <td>No dementia</td>\n",
       "    </tr>\n",
       "    <tr>\n",
       "      <th>1</th>\n",
       "      <td>Tau Pathology</td>\n",
       "      <td>Dementia</td>\n",
       "    </tr>\n",
       "    <tr>\n",
       "      <th>2</th>\n",
       "      <td>Control</td>\n",
       "      <td>Dementia</td>\n",
       "    </tr>\n",
       "    <tr>\n",
       "      <th>3</th>\n",
       "      <td>Control</td>\n",
       "      <td>No dementia</td>\n",
       "    </tr>\n",
       "    <tr>\n",
       "      <th>4</th>\n",
       "      <td>PART-Definite</td>\n",
       "      <td>No dementia</td>\n",
       "    </tr>\n",
       "    <tr>\n",
       "      <th>5</th>\n",
       "      <td>PART-Probable</td>\n",
       "      <td>No dementia</td>\n",
       "    </tr>\n",
       "    <tr>\n",
       "      <th>6</th>\n",
       "      <td>Control</td>\n",
       "      <td>Dementia</td>\n",
       "    </tr>\n",
       "    <tr>\n",
       "      <th>7</th>\n",
       "      <td>Tau Pathology</td>\n",
       "      <td>No dementia</td>\n",
       "    </tr>\n",
       "    <tr>\n",
       "      <th>8</th>\n",
       "      <td>Control</td>\n",
       "      <td>Dementia</td>\n",
       "    </tr>\n",
       "    <tr>\n",
       "      <th>9</th>\n",
       "      <td>PART-Probable</td>\n",
       "      <td>Dementia</td>\n",
       "    </tr>\n",
       "    <tr>\n",
       "      <th>10</th>\n",
       "      <td>Control</td>\n",
       "      <td>Dementia</td>\n",
       "    </tr>\n",
       "    <tr>\n",
       "      <th>11</th>\n",
       "      <td>PART-Probable</td>\n",
       "      <td>No dementia</td>\n",
       "    </tr>\n",
       "    <tr>\n",
       "      <th>12</th>\n",
       "      <td>Control</td>\n",
       "      <td>No dementia</td>\n",
       "    </tr>\n",
       "    <tr>\n",
       "      <th>13</th>\n",
       "      <td>PART-Probable</td>\n",
       "      <td>Dementia</td>\n",
       "    </tr>\n",
       "    <tr>\n",
       "      <th>14</th>\n",
       "      <td>Control</td>\n",
       "      <td>No dementia</td>\n",
       "    </tr>\n",
       "    <tr>\n",
       "      <th>15</th>\n",
       "      <td>PART-Probable</td>\n",
       "      <td>No dementia</td>\n",
       "    </tr>\n",
       "    <tr>\n",
       "      <th>16</th>\n",
       "      <td>PART-Probable</td>\n",
       "      <td>Dementia</td>\n",
       "    </tr>\n",
       "    <tr>\n",
       "      <th>17</th>\n",
       "      <td>Control</td>\n",
       "      <td>Dementia</td>\n",
       "    </tr>\n",
       "    <tr>\n",
       "      <th>18</th>\n",
       "      <td>PART-Probable</td>\n",
       "      <td>Dementia</td>\n",
       "    </tr>\n",
       "    <tr>\n",
       "      <th>19</th>\n",
       "      <td>Tau Pathology</td>\n",
       "      <td>Dementia</td>\n",
       "    </tr>\n",
       "    <tr>\n",
       "      <th>20</th>\n",
       "      <td>Tau Pathology</td>\n",
       "      <td>Dementia</td>\n",
       "    </tr>\n",
       "    <tr>\n",
       "      <th>21</th>\n",
       "      <td>Control</td>\n",
       "      <td>No dementia</td>\n",
       "    </tr>\n",
       "    <tr>\n",
       "      <th>22</th>\n",
       "      <td>PART-Probable</td>\n",
       "      <td>No dementia</td>\n",
       "    </tr>\n",
       "    <tr>\n",
       "      <th>23</th>\n",
       "      <td>Control</td>\n",
       "      <td>No dementia</td>\n",
       "    </tr>\n",
       "    <tr>\n",
       "      <th>24</th>\n",
       "      <td>Control</td>\n",
       "      <td>No dementia</td>\n",
       "    </tr>\n",
       "    <tr>\n",
       "      <th>25</th>\n",
       "      <td>Control</td>\n",
       "      <td>Dementia</td>\n",
       "    </tr>\n",
       "    <tr>\n",
       "      <th>26</th>\n",
       "      <td>Tau Pathology</td>\n",
       "      <td>Dementia</td>\n",
       "    </tr>\n",
       "    <tr>\n",
       "      <th>27</th>\n",
       "      <td>No Pathology</td>\n",
       "      <td>No dementia</td>\n",
       "    </tr>\n",
       "    <tr>\n",
       "      <th>28</th>\n",
       "      <td>PART-Probable</td>\n",
       "      <td>No dementia</td>\n",
       "    </tr>\n",
       "    <tr>\n",
       "      <th>29</th>\n",
       "      <td>PART-Probable</td>\n",
       "      <td>No dementia</td>\n",
       "    </tr>\n",
       "    <tr>\n",
       "      <th>...</th>\n",
       "      <td>...</td>\n",
       "      <td>...</td>\n",
       "    </tr>\n",
       "    <tr>\n",
       "      <th>38</th>\n",
       "      <td>Tau Pathology</td>\n",
       "      <td>Dementia</td>\n",
       "    </tr>\n",
       "    <tr>\n",
       "      <th>39</th>\n",
       "      <td>Control</td>\n",
       "      <td>No dementia</td>\n",
       "    </tr>\n",
       "    <tr>\n",
       "      <th>40</th>\n",
       "      <td>Control</td>\n",
       "      <td>Dementia</td>\n",
       "    </tr>\n",
       "    <tr>\n",
       "      <th>41</th>\n",
       "      <td>Control</td>\n",
       "      <td>No dementia</td>\n",
       "    </tr>\n",
       "    <tr>\n",
       "      <th>42</th>\n",
       "      <td>Control</td>\n",
       "      <td>Dementia</td>\n",
       "    </tr>\n",
       "    <tr>\n",
       "      <th>43</th>\n",
       "      <td>Control</td>\n",
       "      <td>No dementia</td>\n",
       "    </tr>\n",
       "    <tr>\n",
       "      <th>44</th>\n",
       "      <td>PART-Probable</td>\n",
       "      <td>Dementia</td>\n",
       "    </tr>\n",
       "    <tr>\n",
       "      <th>45</th>\n",
       "      <td>Control</td>\n",
       "      <td>Dementia</td>\n",
       "    </tr>\n",
       "    <tr>\n",
       "      <th>46</th>\n",
       "      <td>PART-Definite</td>\n",
       "      <td>NaN</td>\n",
       "    </tr>\n",
       "    <tr>\n",
       "      <th>47</th>\n",
       "      <td>Control</td>\n",
       "      <td>Dementia</td>\n",
       "    </tr>\n",
       "    <tr>\n",
       "      <th>48</th>\n",
       "      <td>Tau Pathology</td>\n",
       "      <td>No dementia</td>\n",
       "    </tr>\n",
       "    <tr>\n",
       "      <th>49</th>\n",
       "      <td>PART-Probable</td>\n",
       "      <td>Dementia</td>\n",
       "    </tr>\n",
       "    <tr>\n",
       "      <th>50</th>\n",
       "      <td>Control</td>\n",
       "      <td>Dementia</td>\n",
       "    </tr>\n",
       "    <tr>\n",
       "      <th>51</th>\n",
       "      <td>Tau Pathology</td>\n",
       "      <td>Dementia</td>\n",
       "    </tr>\n",
       "    <tr>\n",
       "      <th>52</th>\n",
       "      <td>Control</td>\n",
       "      <td>Dementia</td>\n",
       "    </tr>\n",
       "    <tr>\n",
       "      <th>53</th>\n",
       "      <td>PART-Probable</td>\n",
       "      <td>Dementia</td>\n",
       "    </tr>\n",
       "    <tr>\n",
       "      <th>54</th>\n",
       "      <td>Tau Pathology</td>\n",
       "      <td>Dementia</td>\n",
       "    </tr>\n",
       "    <tr>\n",
       "      <th>55</th>\n",
       "      <td>Control</td>\n",
       "      <td>No dementia</td>\n",
       "    </tr>\n",
       "    <tr>\n",
       "      <th>56</th>\n",
       "      <td>Tau Pathology</td>\n",
       "      <td>Dementia</td>\n",
       "    </tr>\n",
       "    <tr>\n",
       "      <th>57</th>\n",
       "      <td>Control</td>\n",
       "      <td>No dementia</td>\n",
       "    </tr>\n",
       "    <tr>\n",
       "      <th>58</th>\n",
       "      <td>Control</td>\n",
       "      <td>No dementia</td>\n",
       "    </tr>\n",
       "    <tr>\n",
       "      <th>59</th>\n",
       "      <td>Control</td>\n",
       "      <td>Dementia</td>\n",
       "    </tr>\n",
       "    <tr>\n",
       "      <th>60</th>\n",
       "      <td>Control</td>\n",
       "      <td>No dementia</td>\n",
       "    </tr>\n",
       "    <tr>\n",
       "      <th>61</th>\n",
       "      <td>Control</td>\n",
       "      <td>Dementia</td>\n",
       "    </tr>\n",
       "    <tr>\n",
       "      <th>62</th>\n",
       "      <td>Control</td>\n",
       "      <td>Dementia</td>\n",
       "    </tr>\n",
       "    <tr>\n",
       "      <th>63</th>\n",
       "      <td>Control</td>\n",
       "      <td>No dementia</td>\n",
       "    </tr>\n",
       "    <tr>\n",
       "      <th>64</th>\n",
       "      <td>PART-Probable</td>\n",
       "      <td>No dementia</td>\n",
       "    </tr>\n",
       "    <tr>\n",
       "      <th>65</th>\n",
       "      <td>PART-Probable</td>\n",
       "      <td>No dementia</td>\n",
       "    </tr>\n",
       "    <tr>\n",
       "      <th>66</th>\n",
       "      <td>No Pathology</td>\n",
       "      <td>No dementia</td>\n",
       "    </tr>\n",
       "    <tr>\n",
       "      <th>67</th>\n",
       "      <td>Control</td>\n",
       "      <td>Dementia</td>\n",
       "    </tr>\n",
       "  </tbody>\n",
       "</table>\n",
       "<p>185 rows × 2 columns</p>\n",
       "</div>"
      ],
      "text/plain": [
       "   partClassification    dem_nver4\n",
       "0       PART-Probable  No dementia\n",
       "1       Tau Pathology     Dementia\n",
       "2             Control     Dementia\n",
       "3             Control  No dementia\n",
       "4       PART-Definite  No dementia\n",
       "5       PART-Probable  No dementia\n",
       "6             Control     Dementia\n",
       "7       Tau Pathology  No dementia\n",
       "8             Control     Dementia\n",
       "9       PART-Probable     Dementia\n",
       "10            Control     Dementia\n",
       "11      PART-Probable  No dementia\n",
       "12            Control  No dementia\n",
       "13      PART-Probable     Dementia\n",
       "14            Control  No dementia\n",
       "15      PART-Probable  No dementia\n",
       "16      PART-Probable     Dementia\n",
       "17            Control     Dementia\n",
       "18      PART-Probable     Dementia\n",
       "19      Tau Pathology     Dementia\n",
       "20      Tau Pathology     Dementia\n",
       "21            Control  No dementia\n",
       "22      PART-Probable  No dementia\n",
       "23            Control  No dementia\n",
       "24            Control  No dementia\n",
       "25            Control     Dementia\n",
       "26      Tau Pathology     Dementia\n",
       "27       No Pathology  No dementia\n",
       "28      PART-Probable  No dementia\n",
       "29      PART-Probable  No dementia\n",
       "..                ...          ...\n",
       "38      Tau Pathology     Dementia\n",
       "39            Control  No dementia\n",
       "40            Control     Dementia\n",
       "41            Control  No dementia\n",
       "42            Control     Dementia\n",
       "43            Control  No dementia\n",
       "44      PART-Probable     Dementia\n",
       "45            Control     Dementia\n",
       "46      PART-Definite          NaN\n",
       "47            Control     Dementia\n",
       "48      Tau Pathology  No dementia\n",
       "49      PART-Probable     Dementia\n",
       "50            Control     Dementia\n",
       "51      Tau Pathology     Dementia\n",
       "52            Control     Dementia\n",
       "53      PART-Probable     Dementia\n",
       "54      Tau Pathology     Dementia\n",
       "55            Control  No dementia\n",
       "56      Tau Pathology     Dementia\n",
       "57            Control  No dementia\n",
       "58            Control  No dementia\n",
       "59            Control     Dementia\n",
       "60            Control  No dementia\n",
       "61            Control     Dementia\n",
       "62            Control     Dementia\n",
       "63            Control  No dementia\n",
       "64      PART-Probable  No dementia\n",
       "65      PART-Probable  No dementia\n",
       "66       No Pathology  No dementia\n",
       "67            Control     Dementia\n",
       "\n",
       "[185 rows x 2 columns]"
      ]
     },
     "metadata": {},
     "output_type": "display_data"
    },
    {
     "data": {
      "text/html": [
       "<div>\n",
       "<style scoped>\n",
       "    .dataframe tbody tr th:only-of-type {\n",
       "        vertical-align: middle;\n",
       "    }\n",
       "\n",
       "    .dataframe tbody tr th {\n",
       "        vertical-align: top;\n",
       "    }\n",
       "\n",
       "    .dataframe thead th {\n",
       "        text-align: right;\n",
       "    }\n",
       "</style>\n",
       "<table border=\"1\" class=\"dataframe\">\n",
       "  <thead>\n",
       "    <tr style=\"text-align: right;\">\n",
       "      <th></th>\n",
       "      <th>partClassification</th>\n",
       "      <th>Dementia</th>\n",
       "      <th>noDementia</th>\n",
       "    </tr>\n",
       "  </thead>\n",
       "  <tbody>\n",
       "    <tr>\n",
       "      <th>0</th>\n",
       "      <td>Control</td>\n",
       "      <td>42.0</td>\n",
       "      <td>38</td>\n",
       "    </tr>\n",
       "    <tr>\n",
       "      <th>1</th>\n",
       "      <td>PART-Definite</td>\n",
       "      <td>7.0</td>\n",
       "      <td>9</td>\n",
       "    </tr>\n",
       "    <tr>\n",
       "      <th>2</th>\n",
       "      <td>PART-Probable</td>\n",
       "      <td>22.0</td>\n",
       "      <td>16</td>\n",
       "    </tr>\n",
       "    <tr>\n",
       "      <th>3</th>\n",
       "      <td>Tau Pathology</td>\n",
       "      <td>36.0</td>\n",
       "      <td>2</td>\n",
       "    </tr>\n",
       "  </tbody>\n",
       "</table>\n",
       "</div>"
      ],
      "text/plain": [
       "  partClassification  Dementia  noDementia\n",
       "0            Control      42.0          38\n",
       "1      PART-Definite       7.0           9\n",
       "2      PART-Probable      22.0          16\n",
       "3      Tau Pathology      36.0           2"
      ]
     },
     "metadata": {},
     "output_type": "display_data"
    },
    {
     "data": {
      "image/png": "[encoded data removed]",
      "text/plain": [
       "<Figure size 432x288 with 1 Axes>"
      ]
     },
     "metadata": {
      "needs_background": "light"
     },
     "output_type": "display_data"
    }
   ],
   "source": [
    "# part reclassification by Braak\n",
    "part = master[['Case','BraakStage','ThalStage','dem_nver4']].copy()\n",
    "part = part[(part[['dem_nver4']] != 0).all(axis=1)]\n",
    "def partClassifier(c):\n",
    "    c = c.dropna()\n",
    "    if c['BraakStage'] == 0:\n",
    "#         print(\"trig\")\n",
    "        return 'No Pathology'\n",
    "\n",
    "    elif c['BraakStage'] <= 4 and c['BraakStage'] >= 1 and  c['ThalStage'] == 0:\n",
    "        return 'PART-Definite'\n",
    "\n",
    "    elif c['BraakStage'] <= 4 and c['BraakStage'] >= 1 and  c['ThalStage'] >= 1 and c['ThalStage'] <= 2:    \n",
    "        return 'PART-Probable'\n",
    "\n",
    "    elif c['BraakStage'] >= 5:\n",
    "        return 'Tau Pathology'\n",
    "\n",
    "    elif c['BraakStage'] <= 4 and c['BraakStage'] >= 1 and  c['ThalStage'] >= 2 and c['ThalStage'] <= 5:    \n",
    "        return 'Control'\n",
    "\n",
    "    else:\n",
    "        return 'Undefined'\n",
    "\n",
    "part['partClassification'] = part.apply(partClassifier, axis=1)\n",
    "display(part[['partClassification','dem_nver4']])\n",
    "\n",
    "partFreq = frequencyChart(part,'partClassification','dem_nver4')\n",
    "display(partFreq)\n",
    "\n",
    "ratios = []\n",
    "ratios = (partFreq['Dementia']/(partFreq['noDementia'] + partFreq['Dementia']))\n",
    "partFreq['likelihood'] = ratios\n",
    "# display(partFreq)\n",
    "\n",
    "partFreq.plot(x = 'partClassification',y = 'likelihood', kind = 'bar')\n",
    "\n",
    "# partFreq.plot(kind = 'Bar', xticks = partFreq.partClassification)\n",
    "\n",
    "# ax = partFreq.plot()\n",
    "# ax.set_xticks(partFreq.index) \n",
    "# ax.set_xticklabels(partFreq.partClassification, rotation=90)\n",
    "\n",
    "plt.show()\n",
    "\n",
    "# add title and update onto doc"
   ]
  },
  {
   "cell_type": "code",
   "execution_count": 15,
   "metadata": {},
   "outputs": [
    {
     "data": {
      "text/html": [
       "<div>\n",
       "<style scoped>\n",
       "    .dataframe tbody tr th:only-of-type {\n",
       "        vertical-align: middle;\n",
       "    }\n",
       "\n",
       "    .dataframe tbody tr th {\n",
       "        vertical-align: top;\n",
       "    }\n",
       "\n",
       "    .dataframe thead th {\n",
       "        text-align: right;\n",
       "    }\n",
       "</style>\n",
       "<table border=\"1\" class=\"dataframe\">\n",
       "  <thead>\n",
       "    <tr style=\"text-align: right;\">\n",
       "      <th></th>\n",
       "      <th>ThalStage</th>\n",
       "      <th>young</th>\n",
       "      <th>mid</th>\n",
       "      <th>old</th>\n",
       "    </tr>\n",
       "  </thead>\n",
       "  <tbody>\n",
       "    <tr>\n",
       "      <th>0</th>\n",
       "      <td>0.0</td>\n",
       "      <td>4</td>\n",
       "      <td>8</td>\n",
       "      <td>7</td>\n",
       "    </tr>\n",
       "    <tr>\n",
       "      <th>1</th>\n",
       "      <td>1.0</td>\n",
       "      <td>6</td>\n",
       "      <td>6</td>\n",
       "      <td>5</td>\n",
       "    </tr>\n",
       "    <tr>\n",
       "      <th>2</th>\n",
       "      <td>2.0</td>\n",
       "      <td>8</td>\n",
       "      <td>9</td>\n",
       "      <td>6</td>\n",
       "    </tr>\n",
       "    <tr>\n",
       "      <th>3</th>\n",
       "      <td>3.0</td>\n",
       "      <td>7</td>\n",
       "      <td>23</td>\n",
       "      <td>14</td>\n",
       "    </tr>\n",
       "    <tr>\n",
       "      <th>4</th>\n",
       "      <td>4.0</td>\n",
       "      <td>9</td>\n",
       "      <td>23</td>\n",
       "      <td>9</td>\n",
       "    </tr>\n",
       "    <tr>\n",
       "      <th>5</th>\n",
       "      <td>5.0</td>\n",
       "      <td>4</td>\n",
       "      <td>14</td>\n",
       "      <td>22</td>\n",
       "    </tr>\n",
       "  </tbody>\n",
       "</table>\n",
       "</div>"
      ],
      "text/plain": [
       "   ThalStage  young  mid  old\n",
       "0        0.0      4    8    7\n",
       "1        1.0      6    6    5\n",
       "2        2.0      8    9    6\n",
       "3        3.0      7   23   14\n",
       "4        4.0      9   23    9\n",
       "5        5.0      4   14   22"
      ]
     },
     "metadata": {},
     "output_type": "display_data"
    },
    {
     "data": {
      "text/plain": [
       "<Figure size 432x288 with 0 Axes>"
      ]
     },
     "metadata": {},
     "output_type": "display_data"
    },
    {
     "data": {
      "image/png": "[encoded data removed]",
      "text/plain": [
       "<Figure size 432x288 with 1 Axes>"
      ]
     },
     "metadata": {
      "needs_background": "light"
     },
     "output_type": "display_data"
    }
   ],
   "source": [
    "#interaction between age and thal score\n",
    "\n",
    "ageThal = ageFreqChart(master,'ThalStage','ageCat')\n",
    "\n",
    "plt.figure()\n",
    "ageThal.plot.bar(x = \"ThalStage\", rot = 0)\n",
    "plt.suptitle(\"Number of Subjects for Various ThalStage by Age\" )\n",
    "plt.ylabel('Number of Subjects')\n",
    "\n",
    "display(ageThal)"
   ]
  },
  {
   "cell_type": "code",
   "execution_count": 16,
   "metadata": {},
   "outputs": [
    {
     "data": {
      "text/html": [
       "<div>\n",
       "<style scoped>\n",
       "    .dataframe tbody tr th:only-of-type {\n",
       "        vertical-align: middle;\n",
       "    }\n",
       "\n",
       "    .dataframe tbody tr th {\n",
       "        vertical-align: top;\n",
       "    }\n",
       "\n",
       "    .dataframe thead th {\n",
       "        text-align: right;\n",
       "    }\n",
       "</style>\n",
       "<table border=\"1\" class=\"dataframe\">\n",
       "  <thead>\n",
       "    <tr style=\"text-align: right;\">\n",
       "      <th></th>\n",
       "      <th>plaqsc</th>\n",
       "      <th>young</th>\n",
       "      <th>mid</th>\n",
       "      <th>old</th>\n",
       "    </tr>\n",
       "  </thead>\n",
       "  <tbody>\n",
       "    <tr>\n",
       "      <th>0</th>\n",
       "      <td>0.0</td>\n",
       "      <td>18</td>\n",
       "      <td>26</td>\n",
       "      <td>15</td>\n",
       "    </tr>\n",
       "    <tr>\n",
       "      <th>1</th>\n",
       "      <td>1.0</td>\n",
       "      <td>4</td>\n",
       "      <td>15</td>\n",
       "      <td>14</td>\n",
       "    </tr>\n",
       "    <tr>\n",
       "      <th>2</th>\n",
       "      <td>3.0</td>\n",
       "      <td>8</td>\n",
       "      <td>12</td>\n",
       "      <td>11</td>\n",
       "    </tr>\n",
       "    <tr>\n",
       "      <th>3</th>\n",
       "      <td>5.0</td>\n",
       "      <td>6</td>\n",
       "      <td>7</td>\n",
       "      <td>11</td>\n",
       "    </tr>\n",
       "  </tbody>\n",
       "</table>\n",
       "</div>"
      ],
      "text/plain": [
       "   plaqsc  young  mid  old\n",
       "0     0.0     18   26   15\n",
       "1     1.0      4   15   14\n",
       "2     3.0      8   12   11\n",
       "3     5.0      6    7   11"
      ]
     },
     "metadata": {},
     "output_type": "display_data"
    },
    {
     "data": {
      "text/plain": [
       "<Figure size 432x288 with 0 Axes>"
      ]
     },
     "metadata": {},
     "output_type": "display_data"
    },
    {
     "data": {
      "image/png": "[encoded data removed]",
      "text/plain": [
       "<Figure size 432x288 with 1 Axes>"
      ]
     },
     "metadata": {
      "needs_background": "light"
     },
     "output_type": "display_data"
    }
   ],
   "source": [
    "#interaction between age and thal score\n",
    "\n",
    "agePlaqsc = ageFreqChart(master,'plaqsc','ageCat')\n",
    "\n",
    "agePlaqsc = ageFreqChart(master,'plaqsc','ageCat')\n",
    "\n",
    "plt.figure()\n",
    "agePlaqsc.plot.bar(x = \"plaqsc\", rot = 0)\n",
    "plt.suptitle(\"Number of Subjects for Various plaqsc by Age\" )\n",
    "plt.ylabel('Number of Subjects')\n",
    "\n",
    "ageThal.head()\n",
    "\n",
    "display(agePlaqsc)"
   ]
  },
  {
   "cell_type": "markdown",
   "metadata": {},
   "source": [
    "I then built a classifiers so as to assess whether thal was a better in fact a better predictor of dementia than cerad."
   ]
  },
  {
   "cell_type": "code",
   "execution_count": 17,
   "metadata": {},
   "outputs": [
    {
     "data": {
      "text/html": [
       "<div>\n",
       "<style scoped>\n",
       "    .dataframe tbody tr th:only-of-type {\n",
       "        vertical-align: middle;\n",
       "    }\n",
       "\n",
       "    .dataframe tbody tr th {\n",
       "        vertical-align: top;\n",
       "    }\n",
       "\n",
       "    .dataframe thead th {\n",
       "        text-align: right;\n",
       "    }\n",
       "</style>\n",
       "<table border=\"1\" class=\"dataframe\">\n",
       "  <thead>\n",
       "    <tr style=\"text-align: right;\">\n",
       "      <th></th>\n",
       "      <th>Case</th>\n",
       "      <th>BraakStage</th>\n",
       "      <th>ThalStage</th>\n",
       "      <th>dem_nver4</th>\n",
       "      <th>ageCat</th>\n",
       "      <th>partClassification</th>\n",
       "    </tr>\n",
       "  </thead>\n",
       "  <tbody>\n",
       "    <tr>\n",
       "      <th>0</th>\n",
       "      <td>1</td>\n",
       "      <td>1.0</td>\n",
       "      <td>2.0</td>\n",
       "      <td>No dementia</td>\n",
       "      <td>young</td>\n",
       "      <td>PART-Probable</td>\n",
       "    </tr>\n",
       "    <tr>\n",
       "      <th>1</th>\n",
       "      <td>2</td>\n",
       "      <td>5.0</td>\n",
       "      <td>5.0</td>\n",
       "      <td>Dementia</td>\n",
       "      <td>old</td>\n",
       "      <td>Tau Pathology</td>\n",
       "    </tr>\n",
       "    <tr>\n",
       "      <th>2</th>\n",
       "      <td>3</td>\n",
       "      <td>2.0</td>\n",
       "      <td>3.0</td>\n",
       "      <td>Dementia</td>\n",
       "      <td>mid</td>\n",
       "      <td>Control</td>\n",
       "    </tr>\n",
       "    <tr>\n",
       "      <th>3</th>\n",
       "      <td>4</td>\n",
       "      <td>3.0</td>\n",
       "      <td>3.0</td>\n",
       "      <td>No dementia</td>\n",
       "      <td>mid</td>\n",
       "      <td>Control</td>\n",
       "    </tr>\n",
       "    <tr>\n",
       "      <th>4</th>\n",
       "      <td>5</td>\n",
       "      <td>2.0</td>\n",
       "      <td>0.0</td>\n",
       "      <td>No dementia</td>\n",
       "      <td>young</td>\n",
       "      <td>PART-Definite</td>\n",
       "    </tr>\n",
       "  </tbody>\n",
       "</table>\n",
       "</div>"
      ],
      "text/plain": [
       "   Case  BraakStage  ThalStage    dem_nver4 ageCat partClassification\n",
       "0     1         1.0        2.0  No dementia  young      PART-Probable\n",
       "1     2         5.0        5.0     Dementia    old      Tau Pathology\n",
       "2     3         2.0        3.0     Dementia    mid            Control\n",
       "3     4         3.0        3.0  No dementia    mid            Control\n",
       "4     5         2.0        0.0  No dementia  young      PART-Definite"
      ]
     },
     "execution_count": 17,
     "metadata": {},
     "output_type": "execute_result"
    }
   ],
   "source": [
    "# agePart = ageFreqChart(master,'plaqsc','ageCat')\n",
    "partAge = master[['Case','BraakStage','ThalStage','dem_nver4','ageCat']].copy()\n",
    "\n",
    "partAge['partClassification'] = part.apply(partClassifier, axis=1)\n",
    "partAge.iloc[:,1:2].head() #needs fixing!!\n",
    "\n",
    "partAge.head()\n",
    "\n",
    "# plt.figure()\n",
    "# partAge.plot.bar(x = \"partClassification\", rot = 0)\n",
    "# plt.suptitle(\"Number of Subjects for Various part by Age\" )\n",
    "# plt.ylabel('Number of Subjects')\n"
   ]
  },
  {
   "cell_type": "code",
   "execution_count": 18,
   "metadata": {},
   "outputs": [
    {
     "data": {
      "text/html": [
       "<div>\n",
       "<style scoped>\n",
       "    .dataframe tbody tr th:only-of-type {\n",
       "        vertical-align: middle;\n",
       "    }\n",
       "\n",
       "    .dataframe tbody tr th {\n",
       "        vertical-align: top;\n",
       "    }\n",
       "\n",
       "    .dataframe thead th {\n",
       "        text-align: right;\n",
       "    }\n",
       "</style>\n",
       "<table border=\"1\" class=\"dataframe\">\n",
       "  <thead>\n",
       "    <tr style=\"text-align: right;\">\n",
       "      <th></th>\n",
       "      <th>Case</th>\n",
       "      <th>ThalStage</th>\n",
       "      <th>dem_nver4_Dementia</th>\n",
       "    </tr>\n",
       "  </thead>\n",
       "  <tbody>\n",
       "    <tr>\n",
       "      <th>0</th>\n",
       "      <td>1</td>\n",
       "      <td>2.0</td>\n",
       "      <td>0</td>\n",
       "    </tr>\n",
       "    <tr>\n",
       "      <th>1</th>\n",
       "      <td>2</td>\n",
       "      <td>5.0</td>\n",
       "      <td>1</td>\n",
       "    </tr>\n",
       "    <tr>\n",
       "      <th>2</th>\n",
       "      <td>3</td>\n",
       "      <td>3.0</td>\n",
       "      <td>1</td>\n",
       "    </tr>\n",
       "    <tr>\n",
       "      <th>3</th>\n",
       "      <td>4</td>\n",
       "      <td>3.0</td>\n",
       "      <td>0</td>\n",
       "    </tr>\n",
       "    <tr>\n",
       "      <th>4</th>\n",
       "      <td>5</td>\n",
       "      <td>0.0</td>\n",
       "      <td>0</td>\n",
       "    </tr>\n",
       "  </tbody>\n",
       "</table>\n",
       "</div>"
      ],
      "text/plain": [
       "   Case  ThalStage  dem_nver4_Dementia\n",
       "0     1        2.0                   0\n",
       "1     2        5.0                   1\n",
       "2     3        3.0                   1\n",
       "3     4        3.0                   0\n",
       "4     5        0.0                   0"
      ]
     },
     "execution_count": 18,
     "metadata": {},
     "output_type": "execute_result"
    }
   ],
   "source": [
    "from sklearn.model_selection import cross_val_score\n",
    "\n",
    "# Thal classifier\n",
    "thalClass = master[['Case','ThalStage','dem_nver4']]\n",
    "thalClass = pd.get_dummies(thalClass)\n",
    "thalClass.drop(thalClass.columns[len(thalClass.columns)-1], axis=1, inplace=True)\n",
    "thalClass.head()\n"
   ]
  },
  {
   "cell_type": "code",
   "execution_count": 19,
   "metadata": {},
   "outputs": [],
   "source": [
    "from sklearn.model_selection import train_test_split\n",
    "X_train, X_test, y_train, y_test = train_test_split(thalClass[['ThalStage']], thalClass[['dem_nver4_Dementia']], random_state=0)"
   ]
  },
  {
   "cell_type": "code",
   "execution_count": 20,
   "metadata": {},
   "outputs": [
    {
     "name": "stdout",
     "output_type": "stream",
     "text": [
      "Accuracy of Logistic regression classifier on training set: 0.67\n",
      "Accuracy of Logistic regression classifier on test set: 0.57\n",
      "Accuracy: 0.60 (+/- 0.03)\n"
     ]
    },
    {
     "name": "stderr",
     "output_type": "stream",
     "text": [
      "/anaconda3/lib/python3.7/site-packages/sklearn/utils/validation.py:578: DataConversionWarning: A column-vector y was passed when a 1d array was expected. Please change the shape of y to (n_samples, ), for example using ravel().\n",
      "  y = column_or_1d(y, warn=True)\n"
     ]
    }
   ],
   "source": [
    "from sklearn.linear_model import LogisticRegression\n",
    "from sklearn.utils import resample\n",
    "\n",
    "logreg = LogisticRegression()\n",
    "\n",
    "X_train,y_train = resample(X_train,y_train ,replace=True,  random_state=1)\n",
    "\n",
    "logreg.fit(X_train, y_train)\n",
    "print('Accuracy of Logistic regression classifier on training set: {:.2f}'\n",
    "     .format(logreg.score(X_train, y_train)))\n",
    "print('Accuracy of Logistic regression classifier on test set: {:.2f}'\n",
    "     .format(logreg.score(X_test, y_test)))\n",
    "\n",
    "scores = cross_val_score(logreg, thalClass[['ThalStage']],  np.ravel(thalClass[['dem_nver4_Dementia']]), cv=3)\n",
    "print(\"Accuracy: %0.2f (+/- %0.2f)\" % (scores.mean(), scores.std() * 2))\n",
    "\n",
    "\n"
   ]
  },
  {
   "cell_type": "code",
   "execution_count": 21,
   "metadata": {},
   "outputs": [],
   "source": [
    "# Cerad classifier\n",
    "ceradClass = master[['Case','plaqsc','dem_nver4']]\n",
    "ceradClass = pd.get_dummies(ceradClass)\n",
    "ceradClass.drop(ceradClass.columns[len(ceradClass.columns)-1], axis=1, inplace=True)\n",
    "ceradClass.dropna(axis=0, how='any',inplace = True)\n"
   ]
  },
  {
   "cell_type": "code",
   "execution_count": 22,
   "metadata": {},
   "outputs": [],
   "source": [
    "X_train, X_test, y_train, y_test = train_test_split(ceradClass[['plaqsc']], ceradClass[['dem_nver4_Dementia']], random_state=0)"
   ]
  },
  {
   "cell_type": "code",
   "execution_count": 23,
   "metadata": {},
   "outputs": [
    {
     "name": "stdout",
     "output_type": "stream",
     "text": [
      "Accuracy of Logistic regression classifier on training set: 0.63\n",
      "Accuracy of Logistic regression classifier on test set: 0.65\n",
      "Accuracy: 0.63 (+/- 0.13)\n"
     ]
    },
    {
     "name": "stderr",
     "output_type": "stream",
     "text": [
      "/anaconda3/lib/python3.7/site-packages/sklearn/utils/validation.py:578: DataConversionWarning: A column-vector y was passed when a 1d array was expected. Please change the shape of y to (n_samples, ), for example using ravel().\n",
      "  y = column_or_1d(y, warn=True)\n"
     ]
    }
   ],
   "source": [
    "logreg = LogisticRegression()\n",
    "logreg.fit(X_train, y_train)\n",
    "print('Accuracy of Logistic regression classifier on training set: {:.2f}'\n",
    "     .format(logreg.score(X_train, y_train)))\n",
    "print('Accuracy of Logistic regression classifier on test set: {:.2f}'\n",
    "     .format(logreg.score(X_test, y_test)))\n",
    "#print(ceradClass.shape)\n",
    "#print(dem_nver4.shape)\n",
    "scores = cross_val_score(logreg, ceradClass[['plaqsc']],  np.ravel(ceradClass[['dem_nver4_Dementia']]), cv=3)\n",
    "print(\"Accuracy: %0.2f (+/- %0.2f)\" % (scores.mean(), scores.std() * 2))\n",
    "\n"
   ]
  },
  {
   "cell_type": "code",
   "execution_count": 24,
   "metadata": {},
   "outputs": [],
   "source": [
    "# CAA classifier\n",
    "caaClass = master[['Case','CAAType','dem_nver4']]\n",
    "caaClass = pd.get_dummies(caaClass)\n",
    "caaClass.drop(caaClass.columns[len(caaClass.columns)-1], axis=1, inplace=True)\n",
    "caaClass.dropna(axis=0, how='any',inplace = True)\n"
   ]
  },
  {
   "cell_type": "code",
   "execution_count": 25,
   "metadata": {},
   "outputs": [],
   "source": [
    "X_train, X_test, y_train, y_test = train_test_split(caaClass[['CAAType']], caaClass[['dem_nver4_Dementia']], random_state=0)\n",
    "\n"
   ]
  },
  {
   "cell_type": "code",
   "execution_count": 26,
   "metadata": {},
   "outputs": [
    {
     "name": "stdout",
     "output_type": "stream",
     "text": [
      "Accuracy of Logistic regression classifier on training set: 0.65\n",
      "Accuracy of Logistic regression classifier on test set: 0.66\n",
      "Accuracy: 0.61 (+/- 0.04)\n"
     ]
    },
    {
     "name": "stderr",
     "output_type": "stream",
     "text": [
      "/anaconda3/lib/python3.7/site-packages/sklearn/utils/validation.py:578: DataConversionWarning: A column-vector y was passed when a 1d array was expected. Please change the shape of y to (n_samples, ), for example using ravel().\n",
      "  y = column_or_1d(y, warn=True)\n"
     ]
    }
   ],
   "source": [
    "logreg = LogisticRegression()\n",
    "logreg.fit(X_train, y_train)\n",
    "print('Accuracy of Logistic regression classifier on training set: {:.2f}'\n",
    "     .format(logreg.score(X_train, y_train)))\n",
    "print('Accuracy of Logistic regression classifier on test set: {:.2f}'\n",
    "     .format(logreg.score(X_test, y_test)))\n",
    "#print(caaClass.shape)\n",
    "#print(dem_nver4.shape)\n",
    "scores = cross_val_score(logreg, caaClass[['CAAType']],  np.ravel(caaClass[['dem_nver4_Dementia']]), cv=3)\n",
    "print(\"Accuracy: %0.2f (+/- %0.2f)\" % (scores.mean(), scores.std() * 2))\n",
    "\n",
    "\n",
    "\n"
   ]
  },
  {
   "cell_type": "code",
   "execution_count": 27,
   "metadata": {},
   "outputs": [],
   "source": [
    "# braak classifier\n",
    "braakClass = master[['Case','BraakStage','dem_nver4']]\n",
    "braakClass = pd.get_dummies(braakClass)\n",
    "braakClass.drop(braakClass.columns[len(braakClass.columns)-1], axis=1, inplace=True)\n",
    "braakClass.dropna(axis=0, how='any',inplace = True)\n",
    "\n"
   ]
  },
  {
   "cell_type": "code",
   "execution_count": 28,
   "metadata": {},
   "outputs": [],
   "source": [
    "X_train, X_test, y_train, y_test = train_test_split(braakClass[['BraakStage']], braakClass[['dem_nver4_Dementia']], random_state=0)\n",
    "\n"
   ]
  },
  {
   "cell_type": "code",
   "execution_count": 29,
   "metadata": {},
   "outputs": [
    {
     "name": "stdout",
     "output_type": "stream",
     "text": [
      "Accuracy of Logistic regression classifier on training set: 0.64\n",
      "Accuracy of Logistic regression classifier on test set: 0.74\n",
      "Accuracy: 0.67 (+/- 0.09)\n"
     ]
    },
    {
     "name": "stderr",
     "output_type": "stream",
     "text": [
      "/anaconda3/lib/python3.7/site-packages/sklearn/utils/validation.py:578: DataConversionWarning: A column-vector y was passed when a 1d array was expected. Please change the shape of y to (n_samples, ), for example using ravel().\n",
      "  y = column_or_1d(y, warn=True)\n"
     ]
    }
   ],
   "source": [
    "logreg = LogisticRegression()\n",
    "logreg.fit(X_train, y_train)\n",
    "print('Accuracy of Logistic regression classifier on training set: {:.2f}'\n",
    "     .format(logreg.score(X_train, y_train)))\n",
    "print('Accuracy of Logistic regression classifier on test set: {:.2f}'\n",
    "     .format(logreg.score(X_test, y_test)))\n",
    "\n",
    "#print(braakClass.shape)\n",
    "#print(dem_nver4.shape)\n",
    "scores = cross_val_score(logreg, braakClass[['BraakStage']],  np.ravel(braakClass[['dem_nver4_Dementia']]), cv=3)\n",
    "print(\"Accuracy: %0.2f (+/- %0.2f)\" % (scores.mean(), scores.std() * 2))\n",
    "\n",
    "\n",
    "\n"
   ]
  },
  {
   "cell_type": "code",
   "execution_count": 30,
   "metadata": {},
   "outputs": [],
   "source": [
    "# adding columns for highest neuritic plaq sc in \n",
    "# 4 cortical areas and mean\n",
    "\n",
    "\n"
   ]
  },
  {
   "cell_type": "code",
   "execution_count": null,
   "metadata": {},
   "outputs": [],
   "source": []
  },
  {
   "cell_type": "markdown",
   "metadata": {},
   "source": [
    "From these results it seems that there is no significnt change in accuracy."
   ]
  },
  {
   "cell_type": "code",
   "execution_count": 31,
   "metadata": {},
   "outputs": [
    {
     "data": {
      "text/html": [
       "<div>\n",
       "<style scoped>\n",
       "    .dataframe tbody tr th:only-of-type {\n",
       "        vertical-align: middle;\n",
       "    }\n",
       "\n",
       "    .dataframe tbody tr th {\n",
       "        vertical-align: top;\n",
       "    }\n",
       "\n",
       "    .dataframe thead th {\n",
       "        text-align: right;\n",
       "    }\n",
       "</style>\n",
       "<table border=\"1\" class=\"dataframe\">\n",
       "  <thead>\n",
       "    <tr style=\"text-align: right;\">\n",
       "      <th></th>\n",
       "      <th>Case</th>\n",
       "      <th>ThalStage</th>\n",
       "      <th>BraakStage</th>\n",
       "      <th>plaqsc</th>\n",
       "      <th>CAAType</th>\n",
       "      <th>brainwgt</th>\n",
       "      <th>ageCat_mid</th>\n",
       "      <th>ageCat_old</th>\n",
       "      <th>ageCat_young</th>\n",
       "      <th>dem_nver4_Dementia</th>\n",
       "    </tr>\n",
       "  </thead>\n",
       "  <tbody>\n",
       "    <tr>\n",
       "      <th>0</th>\n",
       "      <td>1</td>\n",
       "      <td>2.0</td>\n",
       "      <td>1.0</td>\n",
       "      <td>0.0</td>\n",
       "      <td>0.0</td>\n",
       "      <td>1100.0</td>\n",
       "      <td>0</td>\n",
       "      <td>0</td>\n",
       "      <td>1</td>\n",
       "      <td>0</td>\n",
       "    </tr>\n",
       "    <tr>\n",
       "      <th>1</th>\n",
       "      <td>2</td>\n",
       "      <td>5.0</td>\n",
       "      <td>5.0</td>\n",
       "      <td>5.0</td>\n",
       "      <td>1.0</td>\n",
       "      <td>980.0</td>\n",
       "      <td>0</td>\n",
       "      <td>1</td>\n",
       "      <td>0</td>\n",
       "      <td>1</td>\n",
       "    </tr>\n",
       "    <tr>\n",
       "      <th>2</th>\n",
       "      <td>3</td>\n",
       "      <td>3.0</td>\n",
       "      <td>2.0</td>\n",
       "      <td>1.0</td>\n",
       "      <td>2.0</td>\n",
       "      <td>1000.0</td>\n",
       "      <td>1</td>\n",
       "      <td>0</td>\n",
       "      <td>0</td>\n",
       "      <td>1</td>\n",
       "    </tr>\n",
       "    <tr>\n",
       "      <th>3</th>\n",
       "      <td>4</td>\n",
       "      <td>3.0</td>\n",
       "      <td>3.0</td>\n",
       "      <td>0.0</td>\n",
       "      <td>0.0</td>\n",
       "      <td>1100.0</td>\n",
       "      <td>1</td>\n",
       "      <td>0</td>\n",
       "      <td>0</td>\n",
       "      <td>0</td>\n",
       "    </tr>\n",
       "    <tr>\n",
       "      <th>4</th>\n",
       "      <td>5</td>\n",
       "      <td>0.0</td>\n",
       "      <td>2.0</td>\n",
       "      <td>0.0</td>\n",
       "      <td>0.0</td>\n",
       "      <td>1100.0</td>\n",
       "      <td>0</td>\n",
       "      <td>0</td>\n",
       "      <td>1</td>\n",
       "      <td>0</td>\n",
       "    </tr>\n",
       "  </tbody>\n",
       "</table>\n",
       "</div>"
      ],
      "text/plain": [
       "   Case  ThalStage  BraakStage  plaqsc  CAAType  brainwgt  ageCat_mid  \\\n",
       "0     1        2.0         1.0     0.0      0.0    1100.0           0   \n",
       "1     2        5.0         5.0     5.0      1.0     980.0           0   \n",
       "2     3        3.0         2.0     1.0      2.0    1000.0           1   \n",
       "3     4        3.0         3.0     0.0      0.0    1100.0           1   \n",
       "4     5        0.0         2.0     0.0      0.0    1100.0           0   \n",
       "\n",
       "   ageCat_old  ageCat_young  dem_nver4_Dementia  \n",
       "0           0             1                   0  \n",
       "1           1             0                   1  \n",
       "2           0             0                   1  \n",
       "3           0             0                   0  \n",
       "4           0             1                   0  "
      ]
     },
     "execution_count": 31,
     "metadata": {},
     "output_type": "execute_result"
    }
   ],
   "source": [
    "# Multivar classifier\n",
    "multiClass = master[['Case','ThalStage', 'BraakStage','plaqsc','CAAType','ageCat','brainwgt','dem_nver4']]\n",
    "multiClass = pd.get_dummies(multiClass)\n",
    "multiClass.drop(multiClass.columns[len(multiClass.columns)-1], axis=1, inplace=True)\n",
    "multiClass.dropna(axis=0, how='any',inplace = True)\n",
    "\n",
    "# from sklearn.preprocessing import LabelEncoder\n",
    "# from sklearn.preprocessing import OneHotEncoder\n",
    "\n",
    "# enc = OneHotEncoder(handle_unknown='ignore')\n",
    "# #add one hot encoding of age here \n",
    "# leAgeCat = LabelEncoder()\n",
    "# multiClass['ageCat_encoded'] = leAgeCat.fit_transform(multiClass.ageCat)\n",
    "multiClass.head()\n"
   ]
  },
  {
   "cell_type": "code",
   "execution_count": 32,
   "metadata": {},
   "outputs": [],
   "source": [
    "X_train, X_test, y_train, y_test = train_test_split(multiClass[['ThalStage','BraakStage','plaqsc','CAAType','ageCat_mid','ageCat_old', 'ageCat_young']], multiClass[['dem_nver4_Dementia']], random_state=0)\n",
    "\n"
   ]
  },
  {
   "cell_type": "code",
   "execution_count": 33,
   "metadata": {},
   "outputs": [
    {
     "name": "stdout",
     "output_type": "stream",
     "text": [
      "Accuracy of Logistic regression classifier on training set: 0.67\n",
      "Accuracy of Logistic regression classifier on test set: 0.62\n",
      "Accuracy: 0.70 (+/- 0.19)\n"
     ]
    }
   ],
   "source": [
    "logreg = LogisticRegression()\n",
    "logreg.fit(X_train, np.ravel(y_train))\n",
    "print('Accuracy of Logistic regression classifier on training set: {:.2f}'\n",
    "     .format(logreg.score(X_train, y_train)))\n",
    "print('Accuracy of Logistic regression classifier on test set: {:.2f}'\n",
    "     .format(logreg.score(X_test, y_test)))\n",
    "\n",
    "# multiClass.iloc[:,1:8].head()\n",
    "\n",
    "\n",
    "scores = cross_val_score(logreg, multiClass.iloc[:,1:9],  np.ravel(multiClass[['dem_nver4_Dementia']]), cv=3)\n",
    "print(\"Accuracy: %0.2f (+/- %0.2f)\" % (scores.mean(), scores.std() * 2))\n",
    "\n"
   ]
  },
  {
   "cell_type": "code",
   "execution_count": 34,
   "metadata": {},
   "outputs": [
    {
     "name": "stdout",
     "output_type": "stream",
     "text": [
      "Accuracy of Logistic regression classifier on training set: 0.62\n",
      "[[-0.0995213   0.35504235  0.41658543 -0.16466083  0.17726214 -0.02251662\n",
      "  -0.99726183]]\n",
      "Accuracy: 0.70 (+/- 0.19)\n"
     ]
    }
   ],
   "source": [
    "# bootstrap validation\n",
    "from sklearn.utils import resample\n",
    "\n",
    "# line for seeing difference bootsrapping makes to accuracy\n",
    "# X_train, X_test, y_train, y_test = train_test_split(multiClass[['ThalStage','BraakStage','plaqsc','CAAType','ageCat_mid','ageCat_old', 'ageCat_young']], multiClass[['dem_nver4_Dementia']], random_state=0)\n",
    "\n",
    "# boot = resample(multiClass[['ThalStage','BraakStage','plaqsc','CAAType','ageCat_mid','ageCat_old', 'ageCat_young']],multiClass[['dem_nver4_Dementia']] ,replace=True,  random_state=1)\n",
    "# print('Bootstrap Sample: %s' % boot)\n",
    "# oob = [x for x in data if x not in boot]\n",
    "# print('OOB Sample: %s' % oob)\n",
    "\n",
    "# X_train,y_train = resample(X_train,y_train ,replace=True,  random_state=1)\n",
    "\n",
    "logreg = LogisticRegression()\n",
    "logreg.fit(X_train, np.ravel(y_train))\n",
    "print('Accuracy of Logistic regression classifier on training set: {:.2f}'\n",
    "     .format(logreg.score(X_test, y_test)))\n",
    "\n",
    "coef = logreg.coef_\n",
    "print(coef)\n",
    "\n",
    "\n",
    "scores = cross_val_score(logreg, multiClass.iloc[:,1:9],  np.ravel(multiClass[['dem_nver4_Dementia']]), cv=3)\n",
    "print(\"Accuracy: %0.2f (+/- %0.2f)\" % (scores.mean(), scores.std() * 2))\n",
    "\n"
   ]
  },
  {
   "cell_type": "markdown",
   "metadata": {},
   "source": [
    "I then investigated a variety of clasification algorithms as shown below."
   ]
  },
  {
   "cell_type": "code",
   "execution_count": 35,
   "metadata": {},
   "outputs": [
    {
     "name": "stdout",
     "output_type": "stream",
     "text": [
      "Accuracy of Decision Tree classifier on training set: 0.91\n",
      "Accuracy of Decision Tree classifier on test set: 0.69\n",
      "Accuracy: 0.73 (+/- 0.17)\n"
     ]
    }
   ],
   "source": [
    "from sklearn.tree import DecisionTreeClassifier\n",
    "clf = DecisionTreeClassifier().fit(X_train, np.ravel(y_train))\n",
    "print('Accuracy of Decision Tree classifier on training set: {:.2f}'\n",
    "     .format(clf.score(X_train, y_train)))\n",
    "print('Accuracy of Decision Tree classifier on test set: {:.2f}'\n",
    "     .format(clf.score(X_test, y_test)))\n",
    "\n",
    "scores = cross_val_score(clf, multiClass.iloc[:,1:9],  np.ravel(multiClass[['dem_nver4_Dementia']]), cv=3)\n",
    "print(\"Accuracy: %0.2f (+/- %0.2f)\" % (scores.mean(), scores.std() * 2))\n",
    "\n",
    "#multiClass.head()"
   ]
  },
  {
   "cell_type": "code",
   "execution_count": 36,
   "metadata": {},
   "outputs": [
    {
     "name": "stdout",
     "output_type": "stream",
     "text": [
      "Accuracy of K-NN classifier on training set: 0.77\n",
      "Accuracy of K-NN classifier on test set: 0.59\n",
      "Accuracy: 0.54 (+/- 0.07)\n"
     ]
    }
   ],
   "source": [
    "from sklearn.neighbors import KNeighborsClassifier\n",
    "knn = KNeighborsClassifier()\n",
    "knn.fit(X_train, np.ravel(y_train))\n",
    "print('Accuracy of K-NN classifier on training set: {:.2f}'\n",
    "     .format(knn.score(X_train, y_train)))\n",
    "print('Accuracy of K-NN classifier on test set: {:.2f}'\n",
    "     .format(knn.score(X_test, y_test)))\n",
    "\n",
    "scores = cross_val_score(knn, multiClass.iloc[:,1:9],  np.ravel(multiClass[['dem_nver4_Dementia']]), cv=3)\n",
    "print(\"Accuracy: %0.2f (+/- %0.2f)\" % (scores.mean(), scores.std() * 2))\n",
    "\n"
   ]
  },
  {
   "cell_type": "code",
   "execution_count": 37,
   "metadata": {},
   "outputs": [
    {
     "name": "stdout",
     "output_type": "stream",
     "text": [
      "Accuracy of LDA classifier on training set: 0.68\n",
      "Accuracy of LDA classifier on test set: 0.62\n",
      "Accuracy: 0.73 (+/- 0.19)\n"
     ]
    },
    {
     "name": "stderr",
     "output_type": "stream",
     "text": [
      "/anaconda3/lib/python3.7/site-packages/sklearn/discriminant_analysis.py:388: UserWarning: Variables are collinear.\n",
      "  warnings.warn(\"Variables are collinear.\")\n",
      "/anaconda3/lib/python3.7/site-packages/sklearn/discriminant_analysis.py:388: UserWarning: Variables are collinear.\n",
      "  warnings.warn(\"Variables are collinear.\")\n",
      "/anaconda3/lib/python3.7/site-packages/sklearn/discriminant_analysis.py:388: UserWarning: Variables are collinear.\n",
      "  warnings.warn(\"Variables are collinear.\")\n",
      "/anaconda3/lib/python3.7/site-packages/sklearn/discriminant_analysis.py:388: UserWarning: Variables are collinear.\n",
      "  warnings.warn(\"Variables are collinear.\")\n"
     ]
    }
   ],
   "source": [
    "from sklearn.discriminant_analysis import LinearDiscriminantAnalysis\n",
    "lda = LinearDiscriminantAnalysis()\n",
    "lda.fit(X_train, np.ravel(y_train))\n",
    "print('Accuracy of LDA classifier on training set: {:.2f}'\n",
    "     .format(lda.score(X_train, y_train)))\n",
    "print('Accuracy of LDA classifier on test set: {:.2f}'\n",
    "     .format(lda.score(X_test, y_test)))\n",
    "\n",
    "scores = cross_val_score(lda, multiClass.iloc[:,1:9],  np.ravel(multiClass[['dem_nver4_Dementia']]), cv=3)\n",
    "print(\"Accuracy: %0.2f (+/- %0.2f)\" % (scores.mean(), scores.std() * 2))\n"
   ]
  },
  {
   "cell_type": "code",
   "execution_count": 38,
   "metadata": {},
   "outputs": [
    {
     "name": "stdout",
     "output_type": "stream",
     "text": [
      "Accuracy of GNB classifier on training set: 0.68\n",
      "Accuracy of GNB classifier on test set: 0.62\n",
      "Accuracy: 0.68 (+/- 0.16)\n"
     ]
    }
   ],
   "source": [
    "from sklearn.naive_bayes import GaussianNB\n",
    "gnb = GaussianNB()\n",
    "gnb.fit(X_train, np.ravel(y_train))\n",
    "print('Accuracy of GNB classifier on training set: {:.2f}'\n",
    "     .format(gnb.score(X_train, y_train)))\n",
    "print('Accuracy of GNB classifier on test set: {:.2f}'\n",
    "     .format(gnb.score(X_test, y_test)))\n",
    "\n",
    "\n",
    "scores = cross_val_score(gnb, multiClass.iloc[:,1:9],  np.ravel(multiClass[['dem_nver4_Dementia']]), cv=3)\n",
    "print(\"Accuracy: %0.2f (+/- %0.2f)\" % (scores.mean(), scores.std() * 2))\n"
   ]
  },
  {
   "cell_type": "code",
   "execution_count": 39,
   "metadata": {},
   "outputs": [
    {
     "name": "stdout",
     "output_type": "stream",
     "text": [
      "Accuracy of SVM classifier on training set: 0.80\n",
      "Accuracy of SVM classifier on test set: 0.59\n",
      "Accuracy: 0.62 (+/- 0.09)\n"
     ]
    }
   ],
   "source": [
    "from sklearn.svm import SVC\n",
    "svm = SVC()\n",
    "svm.fit(X_train, np.ravel(y_train))\n",
    "print('Accuracy of SVM classifier on training set: {:.2f}'\n",
    "     .format(svm.score(X_train, y_train)))\n",
    "print('Accuracy of SVM classifier on test set: {:.2f}'\n",
    "     .format(svm.score(X_test, y_test)))\n",
    "\n",
    "scores = cross_val_score(svm, multiClass.iloc[:,1:9],  np.ravel(multiClass[['dem_nver4_Dementia']]), cv=3)\n",
    "print(\"Accuracy: %0.2f (+/- %0.2f)\" % (scores.mean(), scores.std() * 2))\n",
    "\n"
   ]
  },
  {
   "cell_type": "markdown",
   "metadata": {},
   "source": [
    "It looks like the LDA classifier gives a narrowly better performance."
   ]
  },
  {
   "cell_type": "markdown",
   "metadata": {},
   "source": [
    "I then wanted to investigate the relationship between these metrics so as to inform a multivariate model."
   ]
  },
  {
   "cell_type": "code",
   "execution_count": 40,
   "metadata": {},
   "outputs": [
    {
     "name": "stdout",
     "output_type": "stream",
     "text": [
      "Accuracy of logistic regression with Thal: 0.69 (+/- 0.19)\n",
      "Accuracy  of logistic regression with Plaque score: 0.68 (+/- 0.22)\n"
     ]
    }
   ],
   "source": [
    "#compare thal to plaqsc\n",
    "\n",
    "logreg = LogisticRegression()\n",
    "scores = cross_val_score(logreg, multiClass[['ThalStage','BraakStage','CAAType','ageCat_mid','ageCat_old', 'ageCat_young']],  np.ravel(multiClass[['dem_nver4_Dementia']]), cv=10)\n",
    "print(\"Accuracy of logistic regression with Thal: %0.2f (+/- %0.2f)\" % (scores.mean(), scores.std() * 2))\n",
    "\n",
    "logreg = LogisticRegression()\n",
    "scores = cross_val_score(logreg, multiClass[['plaqsc','BraakStage','CAAType','ageCat_mid','ageCat_old', 'ageCat_young']],  np.ravel(multiClass[['dem_nver4_Dementia']]), cv=10)\n",
    "print(\"Accuracy  of logistic regression with Plaque score: %0.2f (+/- %0.2f)\" % (scores.mean(), scores.std() * 2))\n",
    "\n"
   ]
  },
  {
   "cell_type": "code",
   "execution_count": 41,
   "metadata": {
    "scrolled": true
   },
   "outputs": [
    {
     "name": "stdout",
     "output_type": "stream",
     "text": [
      "Index(['ThalStage', 'BraakStage', 'Frequency', 'Demented', 'likelihood'], dtype='object')\n"
     ]
    },
    {
     "data": {
      "image/png": "[encoded data removed]",
      "text/plain": [
       "<Figure size 432x288 with 2 Axes>"
      ]
     },
     "metadata": {
      "needs_background": "light"
     },
     "output_type": "display_data"
    }
   ],
   "source": [
    "thalVBraak = master.groupby([\"ThalStage\", \"BraakStage\"]).size().reset_index(name=\"Frequency\")\n",
    "thalVBraak2 = master[master['dem_nver4'] == 'Dementia'].groupby([\"ThalStage\", \"BraakStage\"]).size()\n",
    "\n",
    "thalVBraak3 = thalVBraak.merge(thalVBraak2.to_frame(), left_on=['ThalStage','BraakStage'], right_index=True)\n",
    "thalVBraak3 = pd.merge(thalVBraak,thalVBraak3,how='outer')\n",
    "thalVBraak3 = thalVBraak3.fillna(0)\n",
    "thalVBraak3.rename(columns={0: \"Demented\"},inplace = True)\n",
    "thalVBraak3['likelihood'] = thalVBraak3['Demented']/thalVBraak3['Frequency']\n",
    "print(thalVBraak3.columns)\n",
    "\n",
    "points = plt.scatter(y = thalVBraak3[\"ThalStage\"],x = thalVBraak3[\"BraakStage\"], s=thalVBraak[\"Frequency\"]*35,\n",
    "                     c= thalVBraak3[\"likelihood\"],\n",
    "                     cmap=\"Blues\",alpha = 0.7, edgecolor='black')\n",
    "plt.colorbar(points)\n",
    "\n",
    "\n",
    "plt.ylabel('ThalStage')\n",
    "plt.xlabel('BraakStage')\n",
    "\n",
    "pws = [ 1, 3, 5]\n",
    "for pw in pws:\n",
    "    plt.scatter([], [], s=pw*35, c=\"k\",label=str(pw))\n",
    "\n",
    "h, l = plt.gca().get_legend_handles_labels()\n",
    "plt.legend(h[1:], l[1:], labelspacing=1.2, title=\"population size\",\n",
    "           borderpad=1,frameon=False, framealpha=0.6,\n",
    "           edgecolor=\"k\", facecolor=\"w\", fontsize = 'small', loc = 'lower right')\n",
    "plt.savefig(\"test.svg\", format=\"svg\")\n",
    "\n",
    "plt.show()"
   ]
  },
  {
   "cell_type": "code",
   "execution_count": 42,
   "metadata": {},
   "outputs": [],
   "source": [
    "# update figures file (no code)\n",
    "# Cross validate ml tests\n",
    "# sensitivity analysis\n",
    "# is there an independent validation set?\n",
    "# learning curve (change ration between training set and test set)\n",
    "# take out final test set example?\n",
    "\n",
    "# figures\n",
    "# can the reader understand it in 30s?\n",
    "# broad audience should be able to understand\n",
    "# should give comprehensive overview\n",
    "# make part more clear (add boxes)\n",
    "\n",
    "# further\n",
    "# k-means clustering\n",
    "\n",
    "# Done\n",
    "# Ask about bench mark for classification\n",
    "#    bench mark is brain weight and age\n",
    "%qtconsole\n",
    "\n",
    "# 16/11/18\n",
    "# change cross val to leave one out or k = 5\n",
    "# check for balance in training set\n",
    "\n",
    "\n",
    "# try using labels rather than encoding\n",
    "# test linearity between covariates and response\n",
    "\n",
    "\n",
    "# do these factors actually accumulate over time? - try rank hot encoding vs one hot encoding\n",
    "# change age plaq bar chart to proportional representation for ecah thal score\n",
    "# include reference to question answered in plots\n",
    "# added lines to part plot\n",
    "\n",
    "\n",
    "# emphasis \n",
    "# sensitivity analysis\n",
    "\n",
    "#     bootsrap other moterhdso to check feature importance\n",
    "#     produce tables instead of figures for every question\n",
    "# add part to multivariate classifier\n",
    "\n",
    "\n",
    "# update figures in google doc for steeve (over weekend)\n",
    "# on labelling figure wrt questions (make prioirty)\n",
    "# which factors have most influence, bootstrap and sensitivity analysis\n",
    "# can we identify an individual who a doctor would be likely to misdiagnose, an outlier case\n",
    "#     asked dennis for this\n",
    "# update master csv with features we used\n",
    "# replace braak and thal score by age rubbish plot with histrgram\n",
    "\n",
    "\n",
    "# add caa univatiate classifier (not sure if we have this anymore)\n",
    "# part is combiniation of braak and thal so try adding wihtout braak and thal\n",
    "\n",
    "# 3c) visualisation of part age and demential maybe like dot scatter grant figure, age my size?\n",
    "# age continuous, part categorical and binary case\n",
    "#    beware of overlaying dots\n",
    "\n",
    "# may be worth including just age and brain weight as benchmark\n",
    "\n",
    "# no longer neccesarry\n",
    "# Do apoe questions, single sample should be labelled apoe (genetic mutation)\n",
    "# add figures into paper google doc\n",
    "\n",
    "# check\n",
    "# caa type should probably be encoded as one hot\n",
    "\n",
    "# focus on creating plots answering to message\n",
    "# don't worry about size, colours, overlaying things etc.\n",
    "\n",
    "# make sure that you use odf vector as in grant figure thing\n",
    "\n",
    "# done\n",
    "\n",
    "# try bootstrap to determine better parameters on training set\n",
    "\n",
    "# 7/12/18\n",
    "# deadline : 10/12/18\n",
    "# univariate models results clean table - done\n",
    "# for multivariate refer to beltrachini paper, sort table by adding on various features\n",
    "# add all tables to figures - mostly done\n",
    "# export new pdf to give access to vectors -done\n",
    "# sen email to confirm submittal to drive\n",
    "\n",
    "\n",
    "# 13/1/18\n",
    "# resample without replacement (to increase number of fold)\n",
    "# re configure 1/3 validation, do about 1000 times\n",
    "\n",
    "# redo table so each column uses 5 features (drop one feature each time)\n",
    "# add accuracy calculation in methods\n",
    "# email with any issues (get this done today and it will be over with)\n",
    "\n"
   ]
  },
  {
   "cell_type": "code",
   "execution_count": 43,
   "metadata": {},
   "outputs": [],
   "source": [
    "# ipython nbconvert --to pdf mynotebook.ipynb\n",
    "# multiClass.head()"
   ]
  },
  {
   "cell_type": "code",
   "execution_count": 44,
   "metadata": {},
   "outputs": [
    {
     "name": "stdout",
     "output_type": "stream",
     "text": [
      "[False  True  True  True False False  True  True  True]\n",
      "[4 1 1 1 2 3 1 1 1]\n"
     ]
    },
    {
     "name": "stderr",
     "output_type": "stream",
     "text": [
      "/anaconda3/lib/python3.7/site-packages/sklearn/utils/validation.py:578: DataConversionWarning: A column-vector y was passed when a 1d array was expected. Please change the shape of y to (n_samples, ), for example using ravel().\n",
      "  y = column_or_1d(y, warn=True)\n"
     ]
    },
    {
     "data": {
      "text/html": [
       "<div>\n",
       "<style scoped>\n",
       "    .dataframe tbody tr th:only-of-type {\n",
       "        vertical-align: middle;\n",
       "    }\n",
       "\n",
       "    .dataframe tbody tr th {\n",
       "        vertical-align: top;\n",
       "    }\n",
       "\n",
       "    .dataframe thead th {\n",
       "        text-align: right;\n",
       "    }\n",
       "</style>\n",
       "<table border=\"1\" class=\"dataframe\">\n",
       "  <thead>\n",
       "    <tr style=\"text-align: right;\">\n",
       "      <th></th>\n",
       "      <th>ThalStage</th>\n",
       "      <th>BraakStage</th>\n",
       "      <th>CAAType</th>\n",
       "      <th>ageCatNum</th>\n",
       "    </tr>\n",
       "  </thead>\n",
       "  <tbody>\n",
       "    <tr>\n",
       "      <th>0</th>\n",
       "      <td>2.0</td>\n",
       "      <td>1.0</td>\n",
       "      <td>0.0</td>\n",
       "      <td>0.0</td>\n",
       "    </tr>\n",
       "    <tr>\n",
       "      <th>1</th>\n",
       "      <td>5.0</td>\n",
       "      <td>5.0</td>\n",
       "      <td>1.0</td>\n",
       "      <td>2.0</td>\n",
       "    </tr>\n",
       "    <tr>\n",
       "      <th>2</th>\n",
       "      <td>3.0</td>\n",
       "      <td>2.0</td>\n",
       "      <td>2.0</td>\n",
       "      <td>1.0</td>\n",
       "    </tr>\n",
       "    <tr>\n",
       "      <th>3</th>\n",
       "      <td>3.0</td>\n",
       "      <td>3.0</td>\n",
       "      <td>0.0</td>\n",
       "      <td>1.0</td>\n",
       "    </tr>\n",
       "    <tr>\n",
       "      <th>4</th>\n",
       "      <td>0.0</td>\n",
       "      <td>2.0</td>\n",
       "      <td>0.0</td>\n",
       "      <td>0.0</td>\n",
       "    </tr>\n",
       "  </tbody>\n",
       "</table>\n",
       "</div>"
      ],
      "text/plain": [
       "   ThalStage  BraakStage  CAAType  ageCatNum\n",
       "0        2.0         1.0      0.0        0.0\n",
       "1        5.0         5.0      1.0        2.0\n",
       "2        3.0         2.0      2.0        1.0\n",
       "3        3.0         3.0      0.0        1.0\n",
       "4        0.0         2.0      0.0        0.0"
      ]
     },
     "execution_count": 44,
     "metadata": {},
     "output_type": "execute_result"
    }
   ],
   "source": [
    "# feature selection experiments\n",
    "\n",
    "# Recursive Feature Elimination\n",
    "from sklearn import datasets\n",
    "from sklearn.feature_selection import RFE\n",
    "from sklearn.linear_model import LogisticRegression\n",
    "# load the iris datasets\n",
    "# dataset = datasets.load_iris()\n",
    "# dataset = multiClass[['ThalStage','BraakStage','CAAType','ageCat_mid','ageCat_old', 'ageCat_young']]\n",
    "# create a base classifier used to evaluate a subset of attributes\n",
    "\n",
    "model = LogisticRegression()\n",
    "# create the RFE model and select 3 attributes\n",
    "# rfe = RFE(model, 2)\n",
    "# rfe = rfe.fit( master[['ThalStage','BraakStage','CAAType','ageCatNum']], multiClass[['dem_nver4_Dementia']])\n",
    "\n",
    "X = multiClass.loc[:, multiClass.columns != 'dem_nver4_Dementia']\n",
    "X.head()\n",
    "\n",
    "rfe = RFE(model, 6)\n",
    "rfe = rfe.fit( X , multiClass[['dem_nver4_Dementia']])\n",
    "\n",
    "# summarize the selection of the attributes\n",
    "print(rfe.support_)\n",
    "print(rfe.ranking_)\n",
    "\n",
    "master[['ThalStage','BraakStage','CAAType','ageCatNum']].head()\n",
    "\n",
    "\n"
   ]
  },
  {
   "cell_type": "code",
   "execution_count": null,
   "metadata": {},
   "outputs": [],
   "source": []
  },
  {
   "cell_type": "code",
   "execution_count": null,
   "metadata": {},
   "outputs": [],
   "source": []
  },
  {
   "cell_type": "code",
   "execution_count": null,
   "metadata": {},
   "outputs": [],
   "source": []
  },
  {
   "cell_type": "code",
   "execution_count": null,
   "metadata": {},
   "outputs": [],
   "source": []
  },
  {
   "cell_type": "code",
   "execution_count": 69,
   "metadata": {},
   "outputs": [
    {
     "data": {
      "text/html": [
       "<div>\n",
       "<style scoped>\n",
       "    .dataframe tbody tr th:only-of-type {\n",
       "        vertical-align: middle;\n",
       "    }\n",
       "\n",
       "    .dataframe tbody tr th {\n",
       "        vertical-align: top;\n",
       "    }\n",
       "\n",
       "    .dataframe thead th {\n",
       "        text-align: right;\n",
       "    }\n",
       "</style>\n",
       "<table border=\"1\" class=\"dataframe\">\n",
       "  <thead>\n",
       "    <tr style=\"text-align: right;\">\n",
       "      <th></th>\n",
       "      <th>Case</th>\n",
       "      <th>ThalStage</th>\n",
       "      <th>BraakStage</th>\n",
       "      <th>plaqsc</th>\n",
       "      <th>CAAType</th>\n",
       "      <th>brainwgt</th>\n",
       "      <th>ageCat_mid</th>\n",
       "      <th>ageCat_old</th>\n",
       "      <th>ageCat_young</th>\n",
       "      <th>dem_nver4_Dementia</th>\n",
       "    </tr>\n",
       "  </thead>\n",
       "  <tbody>\n",
       "    <tr>\n",
       "      <th>0</th>\n",
       "      <td>1</td>\n",
       "      <td>2.0</td>\n",
       "      <td>1.0</td>\n",
       "      <td>0.0</td>\n",
       "      <td>0.0</td>\n",
       "      <td>1100.0</td>\n",
       "      <td>0</td>\n",
       "      <td>0</td>\n",
       "      <td>1</td>\n",
       "      <td>0</td>\n",
       "    </tr>\n",
       "    <tr>\n",
       "      <th>1</th>\n",
       "      <td>2</td>\n",
       "      <td>5.0</td>\n",
       "      <td>5.0</td>\n",
       "      <td>5.0</td>\n",
       "      <td>1.0</td>\n",
       "      <td>980.0</td>\n",
       "      <td>0</td>\n",
       "      <td>1</td>\n",
       "      <td>0</td>\n",
       "      <td>1</td>\n",
       "    </tr>\n",
       "    <tr>\n",
       "      <th>2</th>\n",
       "      <td>3</td>\n",
       "      <td>3.0</td>\n",
       "      <td>2.0</td>\n",
       "      <td>1.0</td>\n",
       "      <td>2.0</td>\n",
       "      <td>1000.0</td>\n",
       "      <td>1</td>\n",
       "      <td>0</td>\n",
       "      <td>0</td>\n",
       "      <td>1</td>\n",
       "    </tr>\n",
       "    <tr>\n",
       "      <th>3</th>\n",
       "      <td>4</td>\n",
       "      <td>3.0</td>\n",
       "      <td>3.0</td>\n",
       "      <td>0.0</td>\n",
       "      <td>0.0</td>\n",
       "      <td>1100.0</td>\n",
       "      <td>1</td>\n",
       "      <td>0</td>\n",
       "      <td>0</td>\n",
       "      <td>0</td>\n",
       "    </tr>\n",
       "    <tr>\n",
       "      <th>4</th>\n",
       "      <td>5</td>\n",
       "      <td>0.0</td>\n",
       "      <td>2.0</td>\n",
       "      <td>0.0</td>\n",
       "      <td>0.0</td>\n",
       "      <td>1100.0</td>\n",
       "      <td>0</td>\n",
       "      <td>0</td>\n",
       "      <td>1</td>\n",
       "      <td>0</td>\n",
       "    </tr>\n",
       "  </tbody>\n",
       "</table>\n",
       "</div>"
      ],
      "text/plain": [
       "   Case  ThalStage  BraakStage  plaqsc  CAAType  brainwgt  ageCat_mid  \\\n",
       "0     1        2.0         1.0     0.0      0.0    1100.0           0   \n",
       "1     2        5.0         5.0     5.0      1.0     980.0           0   \n",
       "2     3        3.0         2.0     1.0      2.0    1000.0           1   \n",
       "3     4        3.0         3.0     0.0      0.0    1100.0           1   \n",
       "4     5        0.0         2.0     0.0      0.0    1100.0           0   \n",
       "\n",
       "   ageCat_old  ageCat_young  dem_nver4_Dementia  \n",
       "0           0             1                   0  \n",
       "1           1             0                   1  \n",
       "2           0             0                   1  \n",
       "3           0             0                   0  \n",
       "4           0             1                   0  "
      ]
     },
     "execution_count": 69,
     "metadata": {},
     "output_type": "execute_result"
    }
   ],
   "source": [
    "# Multivar classifier\n",
    "multiClass = master[['Case','ThalStage', 'BraakStage','plaqsc','CAAType','ageCat','brainwgt','dem_nver4']].copy()\n",
    "multiClass = pd.get_dummies(multiClass)\n",
    "multiClass.drop(multiClass.columns[len(multiClass.columns)-1], axis=1, inplace=True)\n",
    "multiClass.dropna(axis=0, how='any',inplace = True)\n",
    "\n",
    "# from sklearn.preprocessing import LabelEncoder\n",
    "# from sklearn.preprocessing import OneHotEncoder\n",
    "\n",
    "# enc = OneHotEncoder(handle_unknown='ignore')\n",
    "# #add one hot encoding of age here \n",
    "# leAgeCat = LabelEncoder()\n",
    "# multiClass['ageCat_encoded'] = leAgeCat.fit_transform(multiClass.ageCat)\n",
    "multiClass.head()"
   ]
  },
  {
   "cell_type": "code",
   "execution_count": 87,
   "metadata": {},
   "outputs": [
    {
     "data": {
      "text/html": [
       "<div>\n",
       "<style scoped>\n",
       "    .dataframe tbody tr th:only-of-type {\n",
       "        vertical-align: middle;\n",
       "    }\n",
       "\n",
       "    .dataframe tbody tr th {\n",
       "        vertical-align: top;\n",
       "    }\n",
       "\n",
       "    .dataframe thead th {\n",
       "        text-align: right;\n",
       "    }\n",
       "</style>\n",
       "<table border=\"1\" class=\"dataframe\">\n",
       "  <thead>\n",
       "    <tr style=\"text-align: right;\">\n",
       "      <th></th>\n",
       "      <th>Case</th>\n",
       "      <th>ThalStage</th>\n",
       "      <th>BraakStage</th>\n",
       "      <th>plaqsc</th>\n",
       "      <th>CAAAreas</th>\n",
       "      <th>brainwgt</th>\n",
       "      <th>ageCat_mid</th>\n",
       "      <th>ageCat_old</th>\n",
       "      <th>ageCat_young</th>\n",
       "      <th>dem_nver4_Dementia</th>\n",
       "    </tr>\n",
       "  </thead>\n",
       "  <tbody>\n",
       "    <tr>\n",
       "      <th>0</th>\n",
       "      <td>1</td>\n",
       "      <td>2.0</td>\n",
       "      <td>1.0</td>\n",
       "      <td>0.0</td>\n",
       "      <td>0.0</td>\n",
       "      <td>1100.0</td>\n",
       "      <td>0</td>\n",
       "      <td>0</td>\n",
       "      <td>1</td>\n",
       "      <td>0</td>\n",
       "    </tr>\n",
       "    <tr>\n",
       "      <th>1</th>\n",
       "      <td>2</td>\n",
       "      <td>5.0</td>\n",
       "      <td>5.0</td>\n",
       "      <td>5.0</td>\n",
       "      <td>6.0</td>\n",
       "      <td>980.0</td>\n",
       "      <td>0</td>\n",
       "      <td>1</td>\n",
       "      <td>0</td>\n",
       "      <td>1</td>\n",
       "    </tr>\n",
       "    <tr>\n",
       "      <th>2</th>\n",
       "      <td>3</td>\n",
       "      <td>3.0</td>\n",
       "      <td>2.0</td>\n",
       "      <td>1.0</td>\n",
       "      <td>1.0</td>\n",
       "      <td>1000.0</td>\n",
       "      <td>1</td>\n",
       "      <td>0</td>\n",
       "      <td>0</td>\n",
       "      <td>1</td>\n",
       "    </tr>\n",
       "    <tr>\n",
       "      <th>3</th>\n",
       "      <td>4</td>\n",
       "      <td>3.0</td>\n",
       "      <td>3.0</td>\n",
       "      <td>0.0</td>\n",
       "      <td>0.0</td>\n",
       "      <td>1100.0</td>\n",
       "      <td>1</td>\n",
       "      <td>0</td>\n",
       "      <td>0</td>\n",
       "      <td>0</td>\n",
       "    </tr>\n",
       "    <tr>\n",
       "      <th>4</th>\n",
       "      <td>5</td>\n",
       "      <td>0.0</td>\n",
       "      <td>2.0</td>\n",
       "      <td>0.0</td>\n",
       "      <td>0.0</td>\n",
       "      <td>1100.0</td>\n",
       "      <td>0</td>\n",
       "      <td>0</td>\n",
       "      <td>1</td>\n",
       "      <td>0</td>\n",
       "    </tr>\n",
       "  </tbody>\n",
       "</table>\n",
       "</div>"
      ],
      "text/plain": [
       "   Case  ThalStage  BraakStage  plaqsc  CAAAreas  brainwgt  ageCat_mid  \\\n",
       "0     1        2.0         1.0     0.0       0.0    1100.0           0   \n",
       "1     2        5.0         5.0     5.0       6.0     980.0           0   \n",
       "2     3        3.0         2.0     1.0       1.0    1000.0           1   \n",
       "3     4        3.0         3.0     0.0       0.0    1100.0           1   \n",
       "4     5        0.0         2.0     0.0       0.0    1100.0           0   \n",
       "\n",
       "   ageCat_old  ageCat_young  dem_nver4_Dementia  \n",
       "0           0             1                   0  \n",
       "1           1             0                   1  \n",
       "2           0             0                   1  \n",
       "3           0             0                   0  \n",
       "4           0             1                   0  "
      ]
     },
     "execution_count": 87,
     "metadata": {},
     "output_type": "execute_result"
    }
   ],
   "source": [
    "# Multivar classifier\n",
    "multiClass2 = master[['Case','ThalStage', 'BraakStage','plaqsc','CAAAreas','ageCat','brainwgt','dem_nver4']].copy()\n",
    "multiClass2 = pd.get_dummies(multiClass2)\n",
    "multiClass2.drop(multiClass2.columns[len(multiClass2.columns)-1], axis=1, inplace=True)\n",
    "multiClass2.dropna(axis=0, how='any',inplace = True)\n",
    "\n",
    "# from sklearn.preprocessing import LabelEncoder\n",
    "# from sklearn.preprocessing import OneHotEncoder\n",
    "\n",
    "# enc = OneHotEncoder(handle_unknown='ignore')\n",
    "# #add one hot encoding of age here \n",
    "# leAgeCat = LabelEncoder()\n",
    "# multiClass['ageCat_encoded'] = leAgeCat.fit_transform(multiClass.ageCat)\n",
    "multiClass2.head()\n",
    "\n",
    "# "
   ]
  },
  {
   "cell_type": "code",
   "execution_count": 46,
   "metadata": {},
   "outputs": [
    {
     "data": {
      "text/plain": [
       "0    2.0\n",
       "1    5.0\n",
       "2    3.0\n",
       "3    3.0\n",
       "4    0.0\n",
       "Name: ThalStage, dtype: float64"
      ]
     },
     "execution_count": 46,
     "metadata": {},
     "output_type": "execute_result"
    }
   ],
   "source": [
    "X_train, X_test, y_train, y_test = train_test_split(multiClass[['ThalStage']], multiClass[['dem_nver4_Dementia']], random_state=0)\n",
    "\n",
    "multiClass.iloc[:,1].head()\n"
   ]
  },
  {
   "cell_type": "code",
   "execution_count": 47,
   "metadata": {},
   "outputs": [
    {
     "name": "stdout",
     "output_type": "stream",
     "text": [
      "Accuracy of Logistic regression classifier on training set: 0.59\n",
      "Accuracy of Logistic regression classifier on test set: 0.59\n",
      "Accuracy: 0.65 (+/- 0.11)\n"
     ]
    }
   ],
   "source": [
    "logreg = LogisticRegression()\n",
    "logreg.fit(X_train, np.ravel(y_train))\n",
    "print('Accuracy of Logistic regression classifier on training set: {:.2f}'\n",
    "     .format(logreg.score(X_train, y_train)))\n",
    "print('Accuracy of Logistic regression classifier on test set: {:.2f}'\n",
    "     .format(logreg.score(X_test, y_test)))\n",
    "\n",
    "# multiClass.iloc[:,1:8].head()\n",
    "\n",
    "\n",
    "# scores = cross_val_score(logreg, multiClass[['ThalStage','BraakStage','plaqsc','CAAType','brainwgt','ageCat_mid','ageCat_old','ageCat_young']],  np.ravel(multiClass[['dem_nver4_Dementia']]), cv=3)\n",
    "\n",
    "\n",
    "scores = cross_val_score(logreg, multiClass[['ThalStage','plaqsc','BraakStage','CAAType']],  np.ravel(multiClass[['dem_nver4_Dementia']]), cv=3)\n",
    "print(\"Accuracy: %0.2f (+/- %0.2f)\" % (scores.mean(), scores.std() * 2))\n",
    "\n"
   ]
  },
  {
   "cell_type": "code",
   "execution_count": 48,
   "metadata": {},
   "outputs": [
    {
     "name": "stdout",
     "output_type": "stream",
     "text": [
      "Accuracy of Decision Tree classifier on training set: 0.66\n",
      "Accuracy of Decision Tree classifier on test set: 0.66\n",
      "Accuracy: 0.71 (+/- 0.13)\n"
     ]
    }
   ],
   "source": [
    "from sklearn.tree import DecisionTreeClassifier\n",
    "clf = DecisionTreeClassifier().fit(X_train, np.ravel(y_train))\n",
    "print('Accuracy of Decision Tree classifier on training set: {:.2f}'\n",
    "     .format(clf.score(X_train, y_train)))\n",
    "print('Accuracy of Decision Tree classifier on test set: {:.2f}'\n",
    "     .format(clf.score(X_test, y_test)))\n",
    "\n",
    "scores = cross_val_score(clf, multiClass[['ThalStage','plaqsc','BraakStage','CAAType','brainwgt','ageCat_mid','ageCat_old','ageCat_young']],  np.ravel(multiClass[['dem_nver4_Dementia']]), cv=3)\n",
    "print(\"Accuracy: %0.2f (+/- %0.2f)\" % (scores.mean(), scores.std() * 2))\n",
    "\n",
    "\n"
   ]
  },
  {
   "cell_type": "code",
   "execution_count": 49,
   "metadata": {},
   "outputs": [
    {
     "name": "stdout",
     "output_type": "stream",
     "text": [
      "Accuracy of LDA classifier on training set: 0.59\n",
      "Accuracy of LDA classifier on test set: 0.59\n",
      "Accuracy: 0.73 (+/- 0.19)\n"
     ]
    },
    {
     "name": "stderr",
     "output_type": "stream",
     "text": [
      "/anaconda3/lib/python3.7/site-packages/sklearn/discriminant_analysis.py:388: UserWarning: Variables are collinear.\n",
      "  warnings.warn(\"Variables are collinear.\")\n",
      "/anaconda3/lib/python3.7/site-packages/sklearn/discriminant_analysis.py:388: UserWarning: Variables are collinear.\n",
      "  warnings.warn(\"Variables are collinear.\")\n",
      "/anaconda3/lib/python3.7/site-packages/sklearn/discriminant_analysis.py:388: UserWarning: Variables are collinear.\n",
      "  warnings.warn(\"Variables are collinear.\")\n"
     ]
    }
   ],
   "source": [
    "from sklearn.discriminant_analysis import LinearDiscriminantAnalysis\n",
    "lda = LinearDiscriminantAnalysis()\n",
    "lda.fit(X_train, np.ravel(y_train))\n",
    "print('Accuracy of LDA classifier on training set: {:.2f}'\n",
    "     .format(lda.score(X_train, y_train)))\n",
    "print('Accuracy of LDA classifier on test set: {:.2f}'\n",
    "     .format(lda.score(X_test, y_test)))\n",
    "\n",
    "scores = cross_val_score(lda, multiClass[['ThalStage','plaqsc','BraakStage','CAAType','brainwgt','ageCat_mid','ageCat_old','ageCat_young']],  np.ravel(multiClass[['dem_nver4_Dementia']]), cv=3)\n",
    "print(\"Accuracy: %0.2f (+/- %0.2f)\" % (scores.mean(), scores.std() * 2))\n",
    "\n",
    "\n"
   ]
  },
  {
   "cell_type": "code",
   "execution_count": null,
   "metadata": {},
   "outputs": [],
   "source": []
  },
  {
   "cell_type": "code",
   "execution_count": 85,
   "metadata": {},
   "outputs": [
    {
     "data": {
      "text/html": [
       "<div>\n",
       "<style scoped>\n",
       "    .dataframe tbody tr th:only-of-type {\n",
       "        vertical-align: middle;\n",
       "    }\n",
       "\n",
       "    .dataframe tbody tr th {\n",
       "        vertical-align: top;\n",
       "    }\n",
       "\n",
       "    .dataframe thead th {\n",
       "        text-align: right;\n",
       "    }\n",
       "</style>\n",
       "<table border=\"1\" class=\"dataframe\">\n",
       "  <thead>\n",
       "    <tr style=\"text-align: right;\">\n",
       "      <th></th>\n",
       "      <th>Case</th>\n",
       "      <th>ThalStage</th>\n",
       "      <th>BraakStage</th>\n",
       "      <th>plaqsc</th>\n",
       "      <th>CAAType</th>\n",
       "      <th>brainwgt</th>\n",
       "      <th>ageCat_mid</th>\n",
       "      <th>ageCat_old</th>\n",
       "      <th>ageCat_young</th>\n",
       "      <th>dem_nver4_Dementia</th>\n",
       "    </tr>\n",
       "  </thead>\n",
       "  <tbody>\n",
       "    <tr>\n",
       "      <th>0</th>\n",
       "      <td>1</td>\n",
       "      <td>2.0</td>\n",
       "      <td>1.0</td>\n",
       "      <td>0.0</td>\n",
       "      <td>0.0</td>\n",
       "      <td>1100.0</td>\n",
       "      <td>0</td>\n",
       "      <td>0</td>\n",
       "      <td>1</td>\n",
       "      <td>0</td>\n",
       "    </tr>\n",
       "    <tr>\n",
       "      <th>1</th>\n",
       "      <td>2</td>\n",
       "      <td>5.0</td>\n",
       "      <td>5.0</td>\n",
       "      <td>5.0</td>\n",
       "      <td>1.0</td>\n",
       "      <td>980.0</td>\n",
       "      <td>0</td>\n",
       "      <td>1</td>\n",
       "      <td>0</td>\n",
       "      <td>1</td>\n",
       "    </tr>\n",
       "    <tr>\n",
       "      <th>2</th>\n",
       "      <td>3</td>\n",
       "      <td>3.0</td>\n",
       "      <td>2.0</td>\n",
       "      <td>1.0</td>\n",
       "      <td>2.0</td>\n",
       "      <td>1000.0</td>\n",
       "      <td>1</td>\n",
       "      <td>0</td>\n",
       "      <td>0</td>\n",
       "      <td>1</td>\n",
       "    </tr>\n",
       "    <tr>\n",
       "      <th>3</th>\n",
       "      <td>4</td>\n",
       "      <td>3.0</td>\n",
       "      <td>3.0</td>\n",
       "      <td>0.0</td>\n",
       "      <td>0.0</td>\n",
       "      <td>1100.0</td>\n",
       "      <td>1</td>\n",
       "      <td>0</td>\n",
       "      <td>0</td>\n",
       "      <td>0</td>\n",
       "    </tr>\n",
       "    <tr>\n",
       "      <th>4</th>\n",
       "      <td>5</td>\n",
       "      <td>0.0</td>\n",
       "      <td>2.0</td>\n",
       "      <td>0.0</td>\n",
       "      <td>0.0</td>\n",
       "      <td>1100.0</td>\n",
       "      <td>0</td>\n",
       "      <td>0</td>\n",
       "      <td>1</td>\n",
       "      <td>0</td>\n",
       "    </tr>\n",
       "  </tbody>\n",
       "</table>\n",
       "</div>"
      ],
      "text/plain": [
       "   Case  ThalStage  BraakStage  plaqsc  CAAType  brainwgt  ageCat_mid  \\\n",
       "0     1        2.0         1.0     0.0      0.0    1100.0           0   \n",
       "1     2        5.0         5.0     5.0      1.0     980.0           0   \n",
       "2     3        3.0         2.0     1.0      2.0    1000.0           1   \n",
       "3     4        3.0         3.0     0.0      0.0    1100.0           1   \n",
       "4     5        0.0         2.0     0.0      0.0    1100.0           0   \n",
       "\n",
       "   ageCat_old  ageCat_young  dem_nver4_Dementia  \n",
       "0           0             1                   0  \n",
       "1           1             0                   1  \n",
       "2           0             0                   1  \n",
       "3           0             0                   0  \n",
       "4           0             1                   0  "
      ]
     },
     "execution_count": 85,
     "metadata": {},
     "output_type": "execute_result"
    }
   ],
   "source": [
    "multiClass.head()\n",
    "\n",
    "multiClass2 = multiClass.copy()\n",
    "# multiClass.drop()\n",
    "\n",
    "# multiClass.head()\n",
    "multiClass2.head()\n"
   ]
  },
  {
   "cell_type": "code",
   "execution_count": 94,
   "metadata": {},
   "outputs": [
    {
     "data": {
      "text/html": [
       "<div>\n",
       "<style scoped>\n",
       "    .dataframe tbody tr th:only-of-type {\n",
       "        vertical-align: middle;\n",
       "    }\n",
       "\n",
       "    .dataframe tbody tr th {\n",
       "        vertical-align: top;\n",
       "    }\n",
       "\n",
       "    .dataframe thead th {\n",
       "        text-align: right;\n",
       "    }\n",
       "</style>\n",
       "<table border=\"1\" class=\"dataframe\">\n",
       "  <thead>\n",
       "    <tr style=\"text-align: right;\">\n",
       "      <th></th>\n",
       "      <th>ThalStage</th>\n",
       "      <th>dem_nver4_Dementia</th>\n",
       "    </tr>\n",
       "  </thead>\n",
       "  <tbody>\n",
       "  </tbody>\n",
       "</table>\n",
       "</div>"
      ],
      "text/plain": [
       "Empty DataFrame\n",
       "Columns: [ThalStage, dem_nver4_Dementia]\n",
       "Index: []"
      ]
     },
     "metadata": {},
     "output_type": "display_data"
    },
    {
     "name": "stderr",
     "output_type": "stream",
     "text": [
      "/anaconda3/lib/python3.7/site-packages/pandas/core/indexes/base.py:2095: FutureWarning: Using a non-tuple sequence for multidimensional indexing is deprecated; use `arr[tuple(seq)]` instead of `arr[seq]`. In the future this will be interpreted as an array index, `arr[np.array(seq)]`, which will result either in an error or a different result.\n",
      "  result = getitem(key)\n"
     ]
    },
    {
     "data": {
      "text/html": [
       "<div>\n",
       "<style scoped>\n",
       "    .dataframe tbody tr th:only-of-type {\n",
       "        vertical-align: middle;\n",
       "    }\n",
       "\n",
       "    .dataframe tbody tr th {\n",
       "        vertical-align: top;\n",
       "    }\n",
       "\n",
       "    .dataframe thead th {\n",
       "        text-align: right;\n",
       "    }\n",
       "</style>\n",
       "<table border=\"1\" class=\"dataframe\">\n",
       "  <thead>\n",
       "    <tr style=\"text-align: right;\">\n",
       "      <th></th>\n",
       "      <th>plaqsc</th>\n",
       "      <th>dem_nver4_Dementia</th>\n",
       "    </tr>\n",
       "  </thead>\n",
       "  <tbody>\n",
       "  </tbody>\n",
       "</table>\n",
       "</div>"
      ],
      "text/plain": [
       "Empty DataFrame\n",
       "Columns: [plaqsc, dem_nver4_Dementia]\n",
       "Index: []"
      ]
     },
     "metadata": {},
     "output_type": "display_data"
    },
    {
     "data": {
      "text/html": [
       "<div>\n",
       "<style scoped>\n",
       "    .dataframe tbody tr th:only-of-type {\n",
       "        vertical-align: middle;\n",
       "    }\n",
       "\n",
       "    .dataframe tbody tr th {\n",
       "        vertical-align: top;\n",
       "    }\n",
       "\n",
       "    .dataframe thead th {\n",
       "        text-align: right;\n",
       "    }\n",
       "</style>\n",
       "<table border=\"1\" class=\"dataframe\">\n",
       "  <thead>\n",
       "    <tr style=\"text-align: right;\">\n",
       "      <th></th>\n",
       "      <th>BraakStage</th>\n",
       "      <th>dem_nver4_Dementia</th>\n",
       "    </tr>\n",
       "  </thead>\n",
       "  <tbody>\n",
       "  </tbody>\n",
       "</table>\n",
       "</div>"
      ],
      "text/plain": [
       "Empty DataFrame\n",
       "Columns: [BraakStage, dem_nver4_Dementia]\n",
       "Index: []"
      ]
     },
     "metadata": {},
     "output_type": "display_data"
    },
    {
     "data": {
      "text/html": [
       "<div>\n",
       "<style scoped>\n",
       "    .dataframe tbody tr th:only-of-type {\n",
       "        vertical-align: middle;\n",
       "    }\n",
       "\n",
       "    .dataframe tbody tr th {\n",
       "        vertical-align: top;\n",
       "    }\n",
       "\n",
       "    .dataframe thead th {\n",
       "        text-align: right;\n",
       "    }\n",
       "</style>\n",
       "<table border=\"1\" class=\"dataframe\">\n",
       "  <thead>\n",
       "    <tr style=\"text-align: right;\">\n",
       "      <th></th>\n",
       "      <th>CAAAreas</th>\n",
       "      <th>dem_nver4_Dementia</th>\n",
       "    </tr>\n",
       "  </thead>\n",
       "  <tbody>\n",
       "  </tbody>\n",
       "</table>\n",
       "</div>"
      ],
      "text/plain": [
       "Empty DataFrame\n",
       "Columns: [CAAAreas, dem_nver4_Dementia]\n",
       "Index: []"
      ]
     },
     "metadata": {},
     "output_type": "display_data"
    }
   ],
   "source": [
    "# implementing bootstrap resampling 1000 times without replacement\n",
    "data1 = multiClass[['ThalStage','plaqsc','BraakStage','CAAType','brainwgt','ageCat_mid','ageCat_old','ageCat_young','dem_nver4_Dementia']]\n",
    "# data1 = multiClass[['ThalStage','plaqsc','BraakStage','CAAType','dem_nver4_Dementia']]\n",
    "\n",
    "data1 = multiClass2[['ThalStage','plaqsc','CAAAreas','BraakStage','CAAAreas','brainwgt','ageCat_mid','ageCat_old','ageCat_young','dem_nver4_Dementia']]\n",
    "\n",
    "features = 4\n",
    "acc = []\n",
    "var = []\n",
    "bootstraps = 1000\n",
    "\n",
    "sumStats = []\n",
    "\n",
    "for i in range(features):\n",
    "    data = data1.copy()\n",
    "    \n",
    "    \n",
    "#     for multivariate\n",
    "      \n",
    "#     data = data1.drop(data.columns[i],axis=1)\n",
    "#     data = data1.drop(data.columns[4:8],axis=1)\n",
    "\n",
    "#     data = data.drop(data.columns[0:3],axis=1)\n",
    "    \n",
    "#     for univariate\n",
    "    data = data1.drop(data.columns[0:4],axis=1)\n",
    "    data.insert(0,data1.columns[i],data1[data1.columns[i]])\n",
    "    data = data.drop(data.columns[1:5],axis=1)\n",
    "\n",
    "#     data2 = data[[data.columns[4]]]\n",
    "#     data3 = data[['dem_nver4_Dementia']]\n",
    "    \n",
    "#     data = pd.merge(data2,data3, left_index=True,right_index=True)\n",
    "    display(data.head(0))\n",
    "\n",
    "    for i in range(bootstraps):\n",
    "        boot = resample(data.copy(), replace=True, n_samples=90)\n",
    "        oob = data.copy().drop(data.index[[boot.index]])\n",
    "\n",
    "        X_train = boot.loc[:, boot.columns != 'dem_nver4_Dementia']\n",
    "        Y_train = boot[['dem_nver4_Dementia']]\n",
    "\n",
    "        X_test = oob.loc[:, boot.columns != 'dem_nver4_Dementia']\n",
    "        Y_test = oob[['dem_nver4_Dementia']]\n",
    "\n",
    "        logreg = LogisticRegression()\n",
    "        logreg.fit(X_train, np.ravel(Y_train))\n",
    "\n",
    "        sumStats.append((logreg.score(X_train, Y_train),logreg.score(X_test, Y_test)))\n",
    "\n",
    "    acc.append([sum(y)/len(y) for y in zip(*sumStats)])\n",
    "    var.append([np.var([i[0] for i in sumStats]),np.var([i[1] for i in sumStats])])\n",
    "\n",
    "\n",
    "# "
   ]
  },
  {
   "cell_type": "code",
   "execution_count": null,
   "metadata": {},
   "outputs": [],
   "source": [
    "data[[data.columns[4]]]"
   ]
  },
  {
   "cell_type": "code",
   "execution_count": 95,
   "metadata": {},
   "outputs": [
    {
     "data": {
      "text/plain": [
       "[[0.6397777777777788, 0.5935664245562867],\n",
       " [0.650300000000002, 0.6078517597234581],\n",
       " [0.6582962962963007, 0.6186280405544382],\n",
       " [0.6619805555555579, 0.6222376753563619]]"
      ]
     },
     "metadata": {},
     "output_type": "display_data"
    },
    {
     "data": {
      "text/plain": [
       "[[0.0027429135802469135, 0.003985897865435731],\n",
       " [0.0024962062962962965, 0.004638883723975695],\n",
       " [0.0025671385459533607, 0.004541348428016499],\n",
       " [0.002567824313271605, 0.004743297694246561]]"
      ]
     },
     "metadata": {},
     "output_type": "display_data"
    }
   ],
   "source": [
    "display(acc)\n",
    "display(var)"
   ]
  },
  {
   "cell_type": "code",
   "execution_count": null,
   "metadata": {},
   "outputs": [],
   "source": [
    "print(\"Mean accuracy of training and test data\")\n",
    "[sum(y)/len(y) for y in zip(*sumStats)]"
   ]
  },
  {
   "cell_type": "code",
   "execution_count": null,
   "metadata": {},
   "outputs": [],
   "source": [
    "print(\"Variance of training and test data\")\n",
    "[np.var([i[0] for i in sumStats]),np.var([i[1] for i in sumStats])]"
   ]
  },
  {
   "cell_type": "code",
   "execution_count": null,
   "metadata": {},
   "outputs": [],
   "source": [
    "boot.index"
   ]
  },
  {
   "cell_type": "code",
   "execution_count": null,
   "metadata": {},
   "outputs": [],
   "source": [
    "data = multiClass[['ThalStage','plaqsc','BraakStage','CAAType','brainwgt','ageCat_mid','ageCat_old','ageCat_young','dem_nver4_Dementia']]\n",
    "\n",
    "\n",
    "data1 = data.copy()\n",
    "# data1 = data1.drop(data1.columns[i],axis=1)\n",
    "data1.head()\n",
    "\n",
    "# "
   ]
  },
  {
   "cell_type": "code",
   "execution_count": null,
   "metadata": {},
   "outputs": [],
   "source": [
    "data1.columns[2]"
   ]
  },
  {
   "cell_type": "code",
   "execution_count": null,
   "metadata": {},
   "outputs": [],
   "source": [
    "print(list(data1.head()))"
   ]
  },
  {
   "cell_type": "code",
   "execution_count": null,
   "metadata": {},
   "outputs": [],
   "source": [
    "for i in range(features):\n",
    "    data = data1.copy()\n",
    "    data = data.drop(data.columns[i],axis=1)\n",
    "    display(data.head(0))"
   ]
  },
  {
   "cell_type": "code",
   "execution_count": null,
   "metadata": {},
   "outputs": [],
   "source": [
    "i = 3\n",
    "data1 = multiClass[['ThalStage','plaqsc','BraakStage','CAAType','brainwgt','ageCat_mid','ageCat_old','ageCat_young','dem_nver4_Dementia']]\n",
    "data = data1.copy()\n",
    "data = data.drop(data.columns[0:4],axis=1)\n",
    "data.insert(0,data1.columns[i],data1[data1.columns[i]])\n",
    "data.head()\n",
    "\n",
    "\n",
    "# "
   ]
  },
  {
   "cell_type": "code",
   "execution_count": null,
   "metadata": {},
   "outputs": [],
   "source": [
    "data1.columns[i]"
   ]
  },
  {
   "cell_type": "code",
   "execution_count": null,
   "metadata": {},
   "outputs": [],
   "source": [
    "\n",
    "# implementing bootstrap resampling 1000 times without replacement\n",
    "data1 = multiClass[['ThalStage','plaqsc','BraakStage','CAAType','brainwgt','ageCat_mid','ageCat_old','ageCat_young','dem_nver4_Dementia']]\n",
    "# data1 = multiClass[['ThalStage','plaqsc','BraakStage','CAAType','dem_nver4_Dementia']]\n",
    "\n",
    "\n",
    "features = 4\n",
    "acc = []\n",
    "var = []\n",
    "bootstraps = 1000\n",
    "\n",
    "sumStats = []\n",
    "\n",
    "for i in range(features):\n",
    "    data = data1.copy()\n",
    "    \n",
    "    \n",
    "#     for multivariate\n",
    "#     data = data1.drop(data.columns[i],axis=1)\n",
    "\n",
    "    data = data1.drop(data.columns[4:8],axis=1)\n",
    "    \n",
    "#     data = data.drop(data.columns[0:3],axis=1)\n",
    "    \n",
    "#     for univariate\n",
    "#     data = data1.drop(data.columns[0:4],axis=1)\n",
    "#     data.insert(0,data1.columns[i],data1[data1.columns[i]])\n",
    "#     data = data.drop(data.columns[1:5],axis=1)\n",
    "    \n",
    "    display(data.head(0))\n",
    "\n",
    "    for i in range(bootstraps):\n",
    "        boot = resample(data.copy(), replace=True, n_samples=90)\n",
    "        oob = data.copy().drop(data.index[[boot.index]])\n",
    "\n",
    "        X_train = boot.loc[:, boot.columns != 'dem_nver4_Dementia']\n",
    "        Y_train = boot[['dem_nver4_Dementia']]\n",
    "\n",
    "        X_test = oob.loc[:, boot.columns != 'dem_nver4_Dementia']\n",
    "        Y_test = oob[['dem_nver4_Dementia']]\n",
    "\n",
    "        clf = DecisionTreeClassifier()\n",
    "        clf.fit(X_train, np.ravel(Y_train))\n",
    "\n",
    "        sumStats.append((clf.score(X_train, Y_train),clf.score(X_test, Y_test)))\n",
    "\n",
    "    acc.append([sum(y)/len(y) for y in zip(*sumStats)])\n",
    "    var.append([np.var([i[0] for i in sumStats]),np.var([i[1] for i in sumStats])])\n",
    "\n",
    "display(acc)\n",
    "display(var)\n",
    "# "
   ]
  },
  {
   "cell_type": "code",
   "execution_count": null,
   "metadata": {},
   "outputs": [],
   "source": [
    "# implementing bootstrap resampling 1000 times without replacement\n",
    "data1 = multiClass[['ThalStage','plaqsc','BraakStage','CAAType','brainwgt','ageCat_mid','ageCat_old','ageCat_young','dem_nver4_Dementia']]\n",
    "# data1 = multiClass[['ThalStage','plaqsc','BraakStage','CAAType','dem_nver4_Dementia']]\n",
    "\n",
    "\n",
    "features = 4\n",
    "acc = []\n",
    "var = []\n",
    "bootstraps = 1000\n",
    "\n",
    "sumStats = []\n",
    "\n",
    "for i in range(features):\n",
    "    data = data1.copy()\n",
    "    \n",
    "    \n",
    "#     for multivariate\n",
    "#     data = data1.drop(data.columns[i],axis=1)\n",
    "\n",
    "#      data = data.drop(data.columns[0:3],axis=1)\n",
    "    \n",
    "#     for univariate\n",
    "#     data = data1.drop(data.columns[0:4],axis=1)\n",
    "#     data.insert(0,data1.columns[i],data1[data1.columns[i]])\n",
    "#     data = data.drop(data.columns[1:5],axis=1)\n",
    "    data = data1.drop(data.columns[4:8],axis=1)\n",
    "\n",
    "    display(data.head(0))\n",
    "\n",
    "    for i in range(bootstraps):\n",
    "        boot = resample(data.copy(), replace=True, n_samples=90)\n",
    "        oob = data.copy().drop(data.index[[boot.index]])\n",
    "\n",
    "        X_train = boot.loc[:, boot.columns != 'dem_nver4_Dementia']\n",
    "        Y_train = boot[['dem_nver4_Dementia']]\n",
    "\n",
    "        X_test = oob.loc[:, boot.columns != 'dem_nver4_Dementia']\n",
    "        Y_test = oob[['dem_nver4_Dementia']]\n",
    "\n",
    "        lda = LinearDiscriminantAnalysis()\n",
    "        lda.fit(X_train, np.ravel(Y_train))\n",
    "\n",
    "        sumStats.append((lda.score(X_train, Y_train),lda.score(X_test, Y_test)))\n",
    "\n",
    "    acc.append([sum(y)/len(y) for y in zip(*sumStats)])\n",
    "    var.append([np.var([i[0] for i in sumStats]),np.var([i[1] for i in sumStats])])\n",
    "\n",
    "display(acc)\n",
    "display(var)\n",
    "# "
   ]
  },
  {
   "cell_type": "code",
   "execution_count": null,
   "metadata": {},
   "outputs": [],
   "source": []
  }
 ],
 "metadata": {
  "kernelspec": {
   "display_name": "Python 3",
   "language": "python",
   "name": "python3"
  },
  "language_info": {
   "codemirror_mode": {
    "name": "ipython",
    "version": 3
   },
   "file_extension": ".py",
   "mimetype": "text/x-python",
   "name": "python",
   "nbconvert_exporter": "python",
   "pygments_lexer": "ipython3",
   "version": "3.7.0"
  }
 },
 "nbformat": 4,
 "nbformat_minor": 2
}
